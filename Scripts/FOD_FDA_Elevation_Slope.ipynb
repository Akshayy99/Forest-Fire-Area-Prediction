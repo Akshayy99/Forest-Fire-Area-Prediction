{
  "nbformat": 4,
  "nbformat_minor": 0,
  "metadata": {
    "@webio": {
      "lastCommId": null,
      "lastKernelId": null
    },
    "kernelspec": {
      "display_name": "Python 3",
      "language": "python",
      "name": "python3"
    },
    "language_info": {
      "codemirror_mode": {
        "name": "ipython",
        "version": 3
      },
      "file_extension": ".py",
      "mimetype": "text/x-python",
      "name": "python",
      "nbconvert_exporter": "python",
      "pygments_lexer": "ipython3",
      "version": "3.5.2"
    },
    "colab": {
      "name": "FOD_FDA_Elevation_Slope.ipynb",
      "provenance": [],
      "collapsed_sections": []
    }
  },
  "cells": [
    {
      "cell_type": "markdown",
      "metadata": {
        "id": "0DU00x8iqrrD"
      },
      "source": [
        "**Data Source**\n",
        "https://www.fs.usda.gov/rds/archive/Catalog/RDS-2013-0009.4/"
      ]
    },
    {
      "cell_type": "code",
      "metadata": {
        "id": "aDBSK3kJXUDq"
      },
      "source": [
        "import sqlite3\n",
        "import pandas as pd\n",
        "import numpy as np\n",
        "import matplotlib.pyplot as plt\n",
        "\n",
        "from sklearn.preprocessing import StandardScaler\n",
        "from sklearn.model_selection import train_test_split\n",
        "import keras\n",
        "from keras.models import Sequential\n",
        "from keras.layers import Dense, Dropout\n"
      ],
      "execution_count": null,
      "outputs": []
    },
    {
      "cell_type": "code",
      "metadata": {
        "id": "YR1o941wZG7O"
      },
      "source": [
        "df=pd.read_csv('/content/ELAVATION_STAT.csv')"
      ],
      "execution_count": null,
      "outputs": []
    },
    {
      "cell_type": "code",
      "metadata": {
        "id": "vD7ig5zSXUDy",
        "colab": {
          "base_uri": "https://localhost:8080/",
          "height": 265
        },
        "outputId": "bc6dad2a-8a4f-4514-d23c-f724e24cb14e"
      },
      "source": [
        "print(df.columns) \n",
        "df.head()"
      ],
      "execution_count": null,
      "outputs": [
        {
          "output_type": "stream",
          "text": [
            "Index(['DISCOVERY_DATE', 'DISCOVERY_DOY', 'FIRE_SIZE', 'FIRE_YEAR', 'FOD_ID',\n",
            "       'STAT_CAUSE_DESCR', 'elev_max', 'elev_mean', 'elev_min', 'slope_mean',\n",
            "       'lon', 'lat'],\n",
            "      dtype='object')\n"
          ],
          "name": "stdout"
        },
        {
          "output_type": "execute_result",
          "data": {
            "text/html": [
              "<div>\n",
              "<style scoped>\n",
              "    .dataframe tbody tr th:only-of-type {\n",
              "        vertical-align: middle;\n",
              "    }\n",
              "\n",
              "    .dataframe tbody tr th {\n",
              "        vertical-align: top;\n",
              "    }\n",
              "\n",
              "    .dataframe thead th {\n",
              "        text-align: right;\n",
              "    }\n",
              "</style>\n",
              "<table border=\"1\" class=\"dataframe\">\n",
              "  <thead>\n",
              "    <tr style=\"text-align: right;\">\n",
              "      <th></th>\n",
              "      <th>DISCOVERY_DATE</th>\n",
              "      <th>DISCOVERY_DOY</th>\n",
              "      <th>FIRE_SIZE</th>\n",
              "      <th>FIRE_YEAR</th>\n",
              "      <th>FOD_ID</th>\n",
              "      <th>STAT_CAUSE_DESCR</th>\n",
              "      <th>elev_max</th>\n",
              "      <th>elev_mean</th>\n",
              "      <th>elev_min</th>\n",
              "      <th>slope_mean</th>\n",
              "      <th>lon</th>\n",
              "      <th>lat</th>\n",
              "    </tr>\n",
              "  </thead>\n",
              "  <tbody>\n",
              "    <tr>\n",
              "      <th>0</th>\n",
              "      <td>2013-01-05T00:00:00+00:00</td>\n",
              "      <td>5</td>\n",
              "      <td>4.0</td>\n",
              "      <td>2013</td>\n",
              "      <td>201842250</td>\n",
              "      <td>Miscellaneous</td>\n",
              "      <td>215</td>\n",
              "      <td>193.695950</td>\n",
              "      <td>168</td>\n",
              "      <td>18.022604</td>\n",
              "      <td>-79.071667</td>\n",
              "      <td>38.557778</td>\n",
              "    </tr>\n",
              "    <tr>\n",
              "      <th>1</th>\n",
              "      <td>2013-01-08T00:00:00+00:00</td>\n",
              "      <td>8</td>\n",
              "      <td>2.0</td>\n",
              "      <td>2013</td>\n",
              "      <td>201840578</td>\n",
              "      <td>Debris Burning</td>\n",
              "      <td>136</td>\n",
              "      <td>88.597007</td>\n",
              "      <td>57</td>\n",
              "      <td>20.427586</td>\n",
              "      <td>-79.383333</td>\n",
              "      <td>38.300000</td>\n",
              "    </tr>\n",
              "    <tr>\n",
              "      <th>2</th>\n",
              "      <td>2013-01-08T00:00:00+00:00</td>\n",
              "      <td>8</td>\n",
              "      <td>2.0</td>\n",
              "      <td>2013</td>\n",
              "      <td>201840580</td>\n",
              "      <td>Debris Burning</td>\n",
              "      <td>434</td>\n",
              "      <td>391.754443</td>\n",
              "      <td>348</td>\n",
              "      <td>17.098140</td>\n",
              "      <td>-79.029444</td>\n",
              "      <td>38.741389</td>\n",
              "    </tr>\n",
              "    <tr>\n",
              "      <th>3</th>\n",
              "      <td>2013-01-10T00:00:00+00:00</td>\n",
              "      <td>10</td>\n",
              "      <td>1.5</td>\n",
              "      <td>2013</td>\n",
              "      <td>201840757</td>\n",
              "      <td>Debris Burning</td>\n",
              "      <td>59</td>\n",
              "      <td>36.743932</td>\n",
              "      <td>-2</td>\n",
              "      <td>15.562330</td>\n",
              "      <td>-82.447778</td>\n",
              "      <td>36.854722</td>\n",
              "    </tr>\n",
              "    <tr>\n",
              "      <th>4</th>\n",
              "      <td>2013-01-23T00:00:00+00:00</td>\n",
              "      <td>23</td>\n",
              "      <td>0.5</td>\n",
              "      <td>2013</td>\n",
              "      <td>201840781</td>\n",
              "      <td>Equipment Use</td>\n",
              "      <td>680</td>\n",
              "      <td>507.770072</td>\n",
              "      <td>341</td>\n",
              "      <td>20.657843</td>\n",
              "      <td>-80.201944</td>\n",
              "      <td>37.760278</td>\n",
              "    </tr>\n",
              "  </tbody>\n",
              "</table>\n",
              "</div>"
            ],
            "text/plain": [
              "              DISCOVERY_DATE  DISCOVERY_DOY  ...        lon        lat\n",
              "0  2013-01-05T00:00:00+00:00              5  ... -79.071667  38.557778\n",
              "1  2013-01-08T00:00:00+00:00              8  ... -79.383333  38.300000\n",
              "2  2013-01-08T00:00:00+00:00              8  ... -79.029444  38.741389\n",
              "3  2013-01-10T00:00:00+00:00             10  ... -82.447778  36.854722\n",
              "4  2013-01-23T00:00:00+00:00             23  ... -80.201944  37.760278\n",
              "\n",
              "[5 rows x 12 columns]"
            ]
          },
          "metadata": {
            "tags": []
          },
          "execution_count": 21
        }
      ]
    },
    {
      "cell_type": "code",
      "metadata": {
        "id": "3UilOUn6XUDz",
        "colab": {
          "base_uri": "https://localhost:8080/"
        },
        "outputId": "df1dafa7-eb97-4d5e-b4fe-91a1b7e0b4d6"
      },
      "source": [
        "# Check for Nan values\n",
        "df.isnull().values.any()\n",
        "df1 = df[df.isna().any(axis=1)]\n",
        "print(\"Num NAN values: {}\".format(df1.shape[0]))"
      ],
      "execution_count": null,
      "outputs": [
        {
          "output_type": "stream",
          "text": [
            "Num NAN values: 0\n"
          ],
          "name": "stdout"
        }
      ]
    },
    {
      "cell_type": "code",
      "metadata": {
        "id": "5qSm5YywZ45t"
      },
      "source": [
        "from sklearn import preprocessing\n",
        "le = preprocessing.LabelEncoder()\n",
        "df['STAT_CAUSE_CODE'] = le.fit_transform(df.STAT_CAUSE_DESCR.values)\n",
        "df.head()"
      ],
      "execution_count": null,
      "outputs": []
    },
    {
      "cell_type": "code",
      "metadata": {
        "colab": {
          "base_uri": "https://localhost:8080/"
        },
        "id": "SlVhmtaJbK_y",
        "outputId": "091a86e5-459c-4b26-b452-7db30c26e2b1"
      },
      "source": [
        "le.classes_"
      ],
      "execution_count": null,
      "outputs": [
        {
          "output_type": "execute_result",
          "data": {
            "text/plain": [
              "array(['Arson', 'Campfire', 'Children', 'Debris Burning', 'Equipment Use',\n",
              "       'Fireworks', 'Lightning', 'Miscellaneous', 'Missing/Undefined',\n",
              "       'Powerline', 'Railroad', 'Smoking', 'Structure'], dtype=object)"
            ]
          },
          "metadata": {
            "tags": []
          },
          "execution_count": 25
        }
      ]
    },
    {
      "cell_type": "markdown",
      "metadata": {
        "id": "knIzNv0zOHeG"
      },
      "source": [
        "https://stackoverflow.com/questions/16453644/regression-with-date-variable-using-scikit-learn"
      ]
    },
    {
      "cell_type": "code",
      "metadata": {
        "id": "jErxar7JdOvJ"
      },
      "source": [
        "import datetime as dt\n",
        "df['MYDATE'] = pd.to_datetime(df['DISCOVERY_DATE'])\n",
        "df['MYDATE']=df['MYDATE'].map(dt.datetime.toordinal)\n",
        "df.head(5)"
      ],
      "execution_count": null,
      "outputs": []
    },
    {
      "cell_type": "code",
      "metadata": {
        "id": "csToFytTXUDz",
        "colab": {
          "base_uri": "https://localhost:8080/"
        },
        "outputId": "ea02853a-9595-4b09-e847-1e22846593dc"
      },
      "source": [
        "#Changing pandas dataframe to numpy array\n",
        "Y = df['FIRE_SIZE'].values\n",
        "X = df[['MYDATE', 'STAT_CAUSE_CODE', 'elev_max', 'elev_mean', 'elev_min', 'slope_mean','lon','lat']]\n",
        "print(Y.shape)\n",
        "print(X.shape)"
      ],
      "execution_count": null,
      "outputs": [
        {
          "output_type": "stream",
          "text": [
            "(21833,)\n",
            "(21833, 9)\n"
          ],
          "name": "stdout"
        }
      ]
    },
    {
      "cell_type": "code",
      "metadata": {
        "id": "FUoEu9jPXUD0"
      },
      "source": [
        "#Normalize the data\n",
        "sc = StandardScaler()\n",
        "X = sc.fit_transform(X)"
      ],
      "execution_count": null,
      "outputs": []
    },
    {
      "cell_type": "code",
      "metadata": {
        "id": "EYpggAU4XUD0",
        "colab": {
          "base_uri": "https://localhost:8080/"
        },
        "outputId": "aca8e138-8659-437b-e15d-69fd83c535f7"
      },
      "source": [
        "# Shuffles the data before split\n",
        "# Train/Test split\n",
        "X_train,X_test,y_train,y_test = train_test_split(X,Y,test_size = 0.5)\n",
        "print(\"# Train: {} , #Test: {}\".format(X_train.shape[0], X_test.shape[0]))\n",
        "print(\"# inputs: {}\".format(X_train.shape[1]))\n",
        "n = X_train.shape[1]"
      ],
      "execution_count": null,
      "outputs": [
        {
          "output_type": "stream",
          "text": [
            "# Train: 10916 , #Test: 10917\n",
            "# inputs: 10\n"
          ],
          "name": "stdout"
        }
      ]
    },
    {
      "cell_type": "code",
      "metadata": {
        "id": "TJ5brkT1XUD0",
        "colab": {
          "base_uri": "https://localhost:8080/",
          "height": 336
        },
        "outputId": "43c73209-17bf-44d3-fd2a-13e820bdd08d"
      },
      "source": [
        "#Distibution of fire size\n",
        "plt.hist(Y, bins=np.logspace(-4,6, 50));\n",
        "plt.ylabel('Number of Fires')\n",
        "plt.xlabel('Fire Size')\n",
        "plt.gca().set_yscale(\"log\")\n",
        "plt.gca().set_xscale(\"log\")\n",
        "plt.savefig(\"kaggle_fires_dist_log.png\")\n",
        "plt.show()\n",
        "\n",
        "print(\"Mean fire size: {}\".format(np.mean(Y)))\n",
        "print(\"Median fire size: {}\".format(np.median(Y)))\n",
        "print(\"Var in fire size: {}\".format(np.var(Y)))"
      ],
      "execution_count": null,
      "outputs": [
        {
          "output_type": "display_data",
          "data": {
            "image/png": "[encoded data removed]",
            "text/plain": [
              "<Figure size 432x288 with 1 Axes>"
            ]
          },
          "metadata": {
            "tags": [],
            "needs_background": "light"
          }
        },
        {
          "output_type": "stream",
          "text": [
            "Mean fire size: 15.648139058543215\n",
            "Median fire size: 1.0\n",
            "Var in fire size: 46737.15855134302\n"
          ],
          "name": "stdout"
        }
      ]
    },
    {
      "cell_type": "code",
      "metadata": {
        "id": "NUPW7MWgXUD1",
        "colab": {
          "base_uri": "https://localhost:8080/"
        },
        "outputId": "18e5062b-cbca-43b7-a29f-1007bcd6ca20"
      },
      "source": [
        "# Neural network\n",
        "model = Sequential()\n",
        "model.add(Dense(32, input_dim=n, kernel_initializer='normal', activation='relu'))\n",
        "model.add(Dense(64, input_dim=n , activation='relu'))\n",
        "model.add(Dropout(0.2))\n",
        "model.add(Dense(128, activation='relu'))\n",
        "model.add(Dropout(0.2))\n",
        "model.add(Dense(256, activation='relu'))\n",
        "model.add(Dropout(0.2))\n",
        "model.add(Dense(256, activation='relu'))\n",
        "model.add(Dropout(0.2))\n",
        "model.add(Dense(128, activation='relu'))\n",
        "model.add(Dropout(0.2))\n",
        "model.add(Dense(64, activation='relu'))\n",
        "model.add(Dropout(0.2))\n",
        "model.add(Dense(32, activation='relu'))\n",
        "model.add(Dropout(0.2))\n",
        "model.add(Dense(16, activation='relu'))\n",
        "model.add(Dense(1, activation='linear'))\n",
        "model.summary()"
      ],
      "execution_count": null,
      "outputs": [
        {
          "output_type": "stream",
          "text": [
            "Model: \"sequential\"\n",
            "_________________________________________________________________\n",
            "Layer (type)                 Output Shape              Param #   \n",
            "=================================================================\n",
            "dense (Dense)                (None, 32)                352       \n",
            "_________________________________________________________________\n",
            "dense_1 (Dense)              (None, 64)                2112      \n",
            "_________________________________________________________________\n",
            "dropout (Dropout)            (None, 64)                0         \n",
            "_________________________________________________________________\n",
            "dense_2 (Dense)              (None, 128)               8320      \n",
            "_________________________________________________________________\n",
            "dropout_1 (Dropout)          (None, 128)               0         \n",
            "_________________________________________________________________\n",
            "dense_3 (Dense)              (None, 256)               33024     \n",
            "_________________________________________________________________\n",
            "dropout_2 (Dropout)          (None, 256)               0         \n",
            "_________________________________________________________________\n",
            "dense_4 (Dense)              (None, 256)               65792     \n",
            "_________________________________________________________________\n",
            "dropout_3 (Dropout)          (None, 256)               0         \n",
            "_________________________________________________________________\n",
            "dense_5 (Dense)              (None, 128)               32896     \n",
            "_________________________________________________________________\n",
            "dropout_4 (Dropout)          (None, 128)               0         \n",
            "_________________________________________________________________\n",
            "dense_6 (Dense)              (None, 64)                8256      \n",
            "_________________________________________________________________\n",
            "dropout_5 (Dropout)          (None, 64)                0         \n",
            "_________________________________________________________________\n",
            "dense_7 (Dense)              (None, 32)                2080      \n",
            "_________________________________________________________________\n",
            "dropout_6 (Dropout)          (None, 32)                0         \n",
            "_________________________________________________________________\n",
            "dense_8 (Dense)              (None, 16)                528       \n",
            "_________________________________________________________________\n",
            "dense_9 (Dense)              (None, 1)                 17        \n",
            "=================================================================\n",
            "Total params: 153,377\n",
            "Trainable params: 153,377\n",
            "Non-trainable params: 0\n",
            "_________________________________________________________________\n"
          ],
          "name": "stdout"
        }
      ]
    },
    {
      "cell_type": "code",
      "metadata": {
        "id": "LNsC6_qfXUD1"
      },
      "source": [
        "model.compile(loss='mse', optimizer='adam', metrics=['mse','mae','accuracy'])"
      ],
      "execution_count": null,
      "outputs": []
    },
    {
      "cell_type": "code",
      "metadata": {
        "id": "SydRHo_JXUD2",
        "colab": {
          "base_uri": "https://localhost:8080/"
        },
        "outputId": "d813a7fa-6b6c-482b-a174-aaad467b19fb"
      },
      "source": [
        "#Save partly trained model\n",
        "#model.save('partly_trained.h5')\n",
        "\n",
        "#Load partly trained model\n",
        "from keras.models import load_model\n",
        "#model = load_model('partly_trained.h5')\n",
        "\n",
        "#Continue training\n",
        "history = model.fit(X_train, y_train, epochs=10, batch_size=640, verbose = 2, validation_split = 0.1, shuffle=True)"
      ],
      "execution_count": null,
      "outputs": [
        {
          "output_type": "stream",
          "text": [
            "Epoch 1/10\n",
            "16/16 - 2s - loss: 83576.4531 - mse: 83576.4531 - mae: 18.0214 - val_loss: 1059.5793 - val_mse: 1059.5793 - val_mae: 8.0735\n",
            "Epoch 2/10\n",
            "16/16 - 0s - loss: 81799.1797 - mse: 81799.1797 - mae: 25.7016 - val_loss: 1457.6948 - val_mse: 1457.6949 - val_mae: 27.2463\n",
            "Epoch 3/10\n",
            "16/16 - 0s - loss: 74636.4141 - mse: 74636.4141 - mae: 55.9485 - val_loss: 3148.2922 - val_mse: 3148.2922 - val_mae: 39.8950\n",
            "Epoch 4/10\n",
            "16/16 - 0s - loss: 40954.2539 - mse: 40954.2539 - mae: 27.1452 - val_loss: 384.1126 - val_mse: 384.1126 - val_mae: 6.0678\n",
            "Epoch 5/10\n",
            "16/16 - 0s - loss: 10320.0684 - mse: 10320.0684 - mae: 9.6056 - val_loss: 814.4372 - val_mse: 814.4372 - val_mae: 7.0582\n",
            "Epoch 6/10\n",
            "16/16 - 0s - loss: 7670.5220 - mse: 7670.5220 - mae: 11.2424 - val_loss: 558.3340 - val_mse: 558.3340 - val_mae: 9.1999\n",
            "Epoch 7/10\n",
            "16/16 - 0s - loss: 5694.5493 - mse: 5694.5493 - mae: 12.6693 - val_loss: 350.4988 - val_mse: 350.4988 - val_mae: 6.8618\n",
            "Epoch 8/10\n",
            "16/16 - 0s - loss: 14327.3340 - mse: 14327.3340 - mae: 11.6856 - val_loss: 197.1550 - val_mse: 197.1550 - val_mae: 8.8837\n",
            "Epoch 9/10\n",
            "16/16 - 0s - loss: 4148.3887 - mse: 4148.3887 - mae: 11.0135 - val_loss: 289.7074 - val_mse: 289.7074 - val_mae: 5.4599\n",
            "Epoch 10/10\n",
            "16/16 - 0s - loss: 12154.6631 - mse: 12154.6631 - mae: 8.5179 - val_loss: 280.7377 - val_mse: 280.7377 - val_mae: 5.7221\n"
          ],
          "name": "stdout"
        }
      ]
    },
    {
      "cell_type": "code",
      "metadata": {
        "id": "GMk88xPsXUD2",
        "colab": {
          "base_uri": "https://localhost:8080/"
        },
        "outputId": "2db599a7-50aa-4bc5-db0b-acb13903f049"
      },
      "source": [
        "#Save partly trained model\n",
        "model.save('partly_trained.h5')\n",
        "\n",
        "#Load partly trained model\n",
        "from keras.models import load_model\n",
        "model = load_model('partly_trained.h5')\n",
        "\n",
        "\n",
        "loss, mse, mae, accuracy = model.evaluate(X_test, y_test)\n",
        "print('MSE: %.2f, MAE: %.2f' % (mse,mae))"
      ],
      "execution_count": null,
      "outputs": [
        {
          "output_type": "stream",
          "text": [
            "342/342 [==============================] - 1s 1ms/step - loss: 310.8154 - mse: 310.8154 - mae: 5.8298\n",
            "MSE: 310.82, MAE: 5.83\n"
          ],
          "name": "stdout"
        }
      ]
    },
    {
      "cell_type": "code",
      "metadata": {
        "id": "j5jh5p5AXUD2",
        "colab": {
          "base_uri": "https://localhost:8080/",
          "height": 297
        },
        "outputId": "cd2c4c02-ac8b-4a37-8498-ee8da7faa507"
      },
      "source": [
        "#Visualize some predictions\n",
        "preds = model.predict(X_test, verbose=1)\n",
        "plt.scatter(y_test, preds, s=0.3, marker='.', c='r')\n",
        "plt.xlabel('True Size')\n",
        "plt.ylabel('Predicted Size')\n",
        "plt.plot([20,50],[20,50],c='k',linestyle='--')\n",
        "plt.show()"
      ],
      "execution_count": null,
      "outputs": [
        {
          "output_type": "stream",
          "text": [
            "342/342 [==============================] - 1s 1ms/step\n"
          ],
          "name": "stdout"
        },
        {
          "output_type": "display_data",
          "data": {
            "image/png": "[encoded data removed]",
            "text/plain": [
              "<Figure size 432x288 with 1 Axes>"
            ]
          },
          "metadata": {
            "tags": [],
            "needs_background": "light"
          }
        }
      ]
    },
    {
      "cell_type": "code",
      "metadata": {
        "id": "56-AHvvTXUD3"
      },
      "source": [
        "# Plot training & validation accuracy values\n",
        "plt.plot(history.history['accuracy'])\n",
        "plt.title('Model Accuracy')\n",
        "plt.ylabel('Accuracy')\n",
        "plt.xlabel('Epoch')\n",
        "plt.legend(['Train', 'Test'], loc='upper left')\n",
        "plt.show()"
      ],
      "execution_count": null,
      "outputs": []
    },
    {
      "cell_type": "code",
      "metadata": {
        "id": "NEqxRlmtXUD3",
        "colab": {
          "base_uri": "https://localhost:8080/",
          "height": 295
        },
        "outputId": "82b600b0-71a4-41c9-f39d-09571f1117ca"
      },
      "source": [
        "# Plot training & validation loss values\n",
        "plt.plot(history.history['loss'])\n",
        "plt.title('Model loss')\n",
        "plt.ylabel('Loss')\n",
        "plt.xlabel('Epoch')\n",
        "plt.legend(['Train', 'Test'], loc='upper left')\n",
        "plt.show()"
      ],
      "execution_count": null,
      "outputs": [
        {
          "output_type": "display_data",
          "data": {
            "image/png": "[encoded data removed]",
            "text/plain": [
              "<Figure size 432x288 with 1 Axes>"
            ]
          },
          "metadata": {
            "tags": [],
            "needs_background": "light"
          }
        }
      ]
    },
    {
      "cell_type": "code",
      "metadata": {
        "id": "z7U73yhuXUD3",
        "colab": {
          "base_uri": "https://localhost:8080/"
        },
        "outputId": "3eb4685b-b90c-4149-e150-54f2be0b2c6b"
      },
      "source": [
        "# SVM\n",
        "from sklearn import svm\n",
        "from sklearn.metrics import r2_score, mean_absolute_error\n",
        "\n",
        "n = 70000\n",
        "svm_reg = svm.SVR(kernel='rbf', degree=3, gamma='auto')\n",
        "svm_reg.fit(X_train[0:n,:],y_train[0:n].reshape(-1))\n",
        "\n",
        "y_pred = svm_reg.predict(X_test[0:n,:])\n",
        "\n",
        "def mean_absolute_percentage_error(y_test, y_pred): \n",
        "    return np.mean(np.abs((y_test - y_pred) / (y_test+10e-1)) ) * 100\n",
        "print(\"MAE: {}\".format(mean_absolute_error(y_test[0:n],y_pred)))\n",
        "print(\"MAPE: {}\".format(mean_absolute_percentage_error(y_test[0:n],y_pred)))\n",
        "print(\"---------------------------------------\")"
      ],
      "execution_count": null,
      "outputs": [
        {
          "output_type": "stream",
          "text": [
            "MAE: 13.09863421830922\n",
            "MAPE: 50.19473888213397\n",
            "---------------------------------------\n"
          ],
          "name": "stdout"
        }
      ]
    },
    {
      "cell_type": "code",
      "metadata": {
        "id": "S8ONQ2UuXUD4",
        "colab": {
          "base_uri": "https://localhost:8080/",
          "height": 283
        },
        "outputId": "b3963b0b-1507-4c06-eb66-4ca274b8d5a0"
      },
      "source": [
        "#Visualize svm predictions\n",
        "plt.scatter(y_test[0:n], y_pred, s=0.3, marker='.', c='r')\n",
        "plt.xlabel('True Size')\n",
        "plt.ylabel('Predicted Size')\n",
        "plt.gca().set_xscale(\"log\")\n",
        "plt.gca().set_yscale(\"log\")\n",
        "plt.plot([.1,20,1000],[.1,20,1000],c='k',linestyle='--')\n",
        "plt.savefig(\"kaggle_fires_svm_preds.png\")\n",
        "plt.show()"
      ],
      "execution_count": null,
      "outputs": [
        {
          "output_type": "display_data",
          "data": {
            "image/png": "[encoded data removed]",
            "text/plain": [
              "<Figure size 432x288 with 1 Axes>"
            ]
          },
          "metadata": {
            "tags": [],
            "needs_background": "light"
          }
        }
      ]
    },
    {
      "cell_type": "code",
      "metadata": {
        "id": "1Jgh1FT-XUD4",
        "colab": {
          "base_uri": "https://localhost:8080/"
        },
        "outputId": "34bff852-9787-4736-e3ed-4eaa2296b7ff"
      },
      "source": [
        "# SKlearn MLP\n",
        "from sklearn.neural_network import MLPRegressor\n",
        "\n",
        "n = 10000\n",
        "\n",
        "NN = MLPRegressor(hidden_layer_sizes=(800,800,800,800),max_iter=200)\n",
        "\n",
        "NN.fit(X_train[0:n,:],y_train[0:n].reshape(-1))\n",
        "y_pred = NN.predict(X_test[0:n,:])\n",
        "\n",
        "print(\"MAE: {}\".format(mean_absolute_error(y_test[0:n],y_pred)))\n",
        "print(\"r2: {}\".format(r2_score(y_test[0:n],y_pred)))\n",
        "print(\"---------------------------------------\")"
      ],
      "execution_count": null,
      "outputs": [
        {
          "output_type": "stream",
          "text": [
            "MAE: 5.001023649628916\n",
            "r2: 0.9740653002235041\n",
            "---------------------------------------\n"
          ],
          "name": "stdout"
        }
      ]
    },
    {
      "cell_type": "code",
      "metadata": {
        "id": "zMJvQSF6XUD4",
        "colab": {
          "base_uri": "https://localhost:8080/"
        },
        "outputId": "b0792b62-5fe9-4f24-b042-56cc50708e81"
      },
      "source": [
        "# K Nearest Neighbours\n",
        "from sklearn.neighbors import KNeighborsRegressor\n",
        "\n",
        "n = 10000\n",
        "\n",
        "for nbs in [3,5,10]:\n",
        "    for wts in ['distance','uniform']:\n",
        "        K_nn = KNeighborsRegressor(n_neighbors=nbs,\n",
        "                                   weights=wts,\n",
        "                                   n_jobs=6)\n",
        "\n",
        "        K_nn.fit(X_train[0:n,:],y_train[0:n].reshape(-1))\n",
        "        y_pred = K_nn.predict(X_test[0:n,:])\n",
        "\n",
        "        print(\"nbs: {}, wts: {}\".format(nbs, wts))\n",
        "        print(\"MAE: {}\".format(mean_absolute_error(y_test[0:n],y_pred)))\n",
        "        print(\"r2: {}\".format(r2_score(y_test[0:n],y_pred)))\n",
        "        print(\"---------------------------------------\")"
      ],
      "execution_count": null,
      "outputs": [
        {
          "output_type": "stream",
          "text": [
            "nbs: 3, wts: distance\n",
            "MAE: 7.723249995429664\n",
            "r2: 0.967403340815878\n",
            "---------------------------------------\n",
            "nbs: 3, wts: uniform\n",
            "MAE: 7.852899664793234\n",
            "r2: 0.9660163442129662\n",
            "---------------------------------------\n",
            "nbs: 5, wts: distance\n",
            "MAE: 8.064183379618482\n",
            "r2: 0.9545461481019593\n",
            "---------------------------------------\n",
            "nbs: 5, wts: uniform\n",
            "MAE: 8.308573798180058\n",
            "r2: 0.9440453762296405\n",
            "---------------------------------------\n",
            "nbs: 10, wts: distance\n",
            "MAE: 8.678417003191052\n",
            "r2: 0.9193031343445635\n",
            "---------------------------------------\n",
            "nbs: 10, wts: uniform\n",
            "MAE: 9.076729496966829\n",
            "r2: 0.8824788351108173\n",
            "---------------------------------------\n"
          ],
          "name": "stdout"
        }
      ]
    },
    {
      "cell_type": "code",
      "metadata": {
        "id": "by4pzY7vXUD5",
        "colab": {
          "base_uri": "https://localhost:8080/"
        },
        "outputId": "5173f3c7-e6f4-447e-b96f-4796818ec499"
      },
      "source": [
        "# Decision Tree\n",
        "from sklearn import tree\n",
        "\n",
        "tree_clf = tree.DecisionTreeRegressor(criterion='mae')\n",
        "\n",
        "tree_clf.fit(X_train[0:n,:],y_train[0:n].reshape(-1))\n",
        "\n",
        "y_pred = tree_clf.predict(X_test[0:n,:])\n",
        "\n",
        "print(\"MAE: {}\".format(mean_absolute_error(y_test[0:n],y_pred)))\n",
        "print(\"r2: {}\".format(r2_score(y_test[0:n],y_pred)))\n",
        "print(\"---------------------------------------\")\n"
      ],
      "execution_count": null,
      "outputs": [
        {
          "output_type": "stream",
          "text": [
            "MAE: 1.2296490110009999\n",
            "r2: 0.9375051060721964\n",
            "---------------------------------------\n"
          ],
          "name": "stdout"
        }
      ]
    },
    {
      "cell_type": "code",
      "metadata": {
        "id": "T-4ZV6S_XUD5",
        "colab": {
          "base_uri": "https://localhost:8080/"
        },
        "outputId": "cd383160-b323-4f0b-938c-2f2d6ebb7f35"
      },
      "source": [
        "# Stacked regressors\n",
        "from mlxtend.regressor import StackingRegressor\n",
        "\n",
        "n = 10000\n",
        "\n",
        "estimators = [K_nn, NN, svm_reg]\n",
        "\n",
        "regStack = StackingRegressor(regressors=estimators,\n",
        "                             meta_regressor=NN)\n",
        "\n",
        "regStack.fit(X_train[0:n,:],y_train[0:n].reshape(-1))\n",
        "\n",
        "y_pred = regStack.predict(X_test[0:n,:])\n",
        "\n",
        "print(\"MAE: {}\".format(mean_absolute_error(y_test[0:n],y_pred)))\n",
        "print(\"r2: {}\".format(r2_score(y_test[0:n],y_pred)))\n",
        "print(\"---------------------------------------\")\n"
      ],
      "execution_count": null,
      "outputs": [
        {
          "output_type": "stream",
          "text": [
            "/usr/local/lib/python3.7/dist-packages/sklearn/neural_network/_multilayer_perceptron.py:573: UserWarning: Training interrupted by user.\n",
            "  warnings.warn(\"Training interrupted by user.\")\n"
          ],
          "name": "stderr"
        },
        {
          "output_type": "stream",
          "text": [
            "MAE: 6.126757494842066\n",
            "r2: 0.7945752811840999\n",
            "---------------------------------------\n"
          ],
          "name": "stdout"
        }
      ]
    },
    {
      "cell_type": "code",
      "metadata": {
        "id": "JWgZLyCdXUD5",
        "colab": {
          "base_uri": "https://localhost:8080/"
        },
        "outputId": "ec540e74-5c1a-494f-fbc8-e5c750650abd"
      },
      "source": [
        "#Best Features - Univariate statistical selection\n",
        "from sklearn.feature_selection import SelectKBest\n",
        "from sklearn.feature_selection import chi2, f_classif, mutual_info_classif\n",
        "\n",
        "feature_names = ['MYDATE', 'STAT_CAUSE_CODE', 'elev_max', 'elev_mean', 'elev_min', 'slope_mean','lon','lat']\n",
        "\n",
        "bestfeatures = SelectKBest(score_func=f_classif, k=5)\n",
        "fit = bestfeatures.fit(X,np.array(Y).astype(int))\n",
        "dfscores = pd.DataFrame(fit.scores_)\n",
        "df_specs = pd.Series(feature_names).astype(str)\n",
        "featureScores = pd.concat([df_specs,dfscores],axis=1)\n",
        "featureScores.columns = ['Feature','f_classif Score'] \n",
        "print(featureScores.nlargest(5,'f_classif Score'))  "
      ],
      "execution_count": null,
      "outputs": [
        {
          "output_type": "stream",
          "text": [
            "           Feature  f_classif Score\n",
            "0             DATE     1.135177e+08\n",
            "2         elev_max     5.563171e+00\n",
            "3        elev_mean     5.006158e+00\n",
            "4         elev_min     4.024666e+00\n",
            "1  STAT_CAUSE_CODE     1.633780e+00\n"
          ],
          "name": "stdout"
        }
      ]
    },
    {
      "cell_type": "code",
      "metadata": {
        "id": "EAF2dFe2XUD5"
      },
      "source": [
        "#Best Features - importance\n",
        "# Feature importance gives you a score for each feature of your data, the higher the score more \n",
        "# important or relevant is the feature towards your output variable.\n",
        "# Feature importance is an inbuilt class that comes with Tree Based Classifiers, we will be using \n",
        "# Extra Tree Classifier for extracting the top 10 features for the dataset.\n",
        "\n",
        "from sklearn.ensemble import ExtraTreesRegressor\n",
        "import matplotlib.pyplot as plt\n",
        "model = ExtraTreesRegressor()\n",
        "model.fit(X_train,y_train)\n",
        "feat_importances = pd.Series(model.feature_importances_, index=feature_names)\n",
        "feat_importances.nlargest(10).plot(kind='barh')\n",
        "plt.show()"
      ],
      "execution_count": null,
      "outputs": []
    },
    {
      "cell_type": "code",
      "metadata": {
        "id": "HBNWXmI7XUD6",
        "colab": {
          "base_uri": "https://localhost:8080/",
          "height": 714
        },
        "outputId": "641cd3d0-376b-447d-e484-b7cbd5598155"
      },
      "source": [
        "# Best feautres - correlation heatmap\n",
        "print(df.columns) \n",
        "import seaborn as sns\n",
        "feature_names =  ['MYDATE', 'STAT_CAUSE_CODE', 'elev_max', 'elev_mean', 'elev_min', 'slope_mean','lon','lat']\n",
        "data = np.concatenate((X_train,y_train.reshape(-1,1)),axis=1)\n",
        "corrmat = np.corrcoef(data.T)\n",
        "plt.figure(figsize=(10,10))\n",
        "g=sns.heatmap(corrmat,annot=True,cmap=\"coolwarm\")\n",
        "g.set_xticklabels(feature_names,rotation=30)\n",
        "g.set_yticklabels(feature_names,rotation=30)\n",
        "plt.show()"
      ],
      "execution_count": null,
      "outputs": [
        {
          "output_type": "stream",
          "text": [
            "Index(['DISCOVERY_DATE', 'DISCOVERY_DOY', 'FIRE_SIZE', 'FIRE_YEAR', 'FOD_ID',\n",
            "       'STAT_CAUSE_DESCR', 'elev_max', 'elev_mean', 'elev_min', 'slope_mean',\n",
            "       'lon', 'lat', 'STAT_CAUSE_CODE', 'Date'],\n",
            "      dtype='object')\n"
          ],
          "name": "stdout"
        },
        {
          "output_type": "display_data",
          "data": {
            "image/png": "[encoded data removed]",
            "text/plain": [
              "<Figure size 720x720 with 2 Axes>"
            ]
          },
          "metadata": {
            "tags": [],
            "needs_background": "light"
          }
        }
      ]
    },
    {
      "cell_type": "code",
      "metadata": {
        "id": "T_Hn0oL_XUD6"
      },
      "source": [
        ""
      ],
      "execution_count": null,
      "outputs": []
    }
  ]
}