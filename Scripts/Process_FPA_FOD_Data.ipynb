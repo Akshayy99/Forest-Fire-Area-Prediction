{
  "nbformat": 4,
  "nbformat_minor": 0,
  "metadata": {
    "colab": {
      "name": "Process_FPA_FOD_Data.ipynb",
      "provenance": []
    },
    "kernelspec": {
      "name": "python3",
      "display_name": "Python 3"
    },
    "language_info": {
      "name": "python"
    }
  },
  "cells": [
    {
      "cell_type": "code",
      "metadata": {
        "colab": {
          "base_uri": "https://localhost:8080/"
        },
        "id": "AF10Q1bvnh6_",
        "outputId": "7d7efa79-539f-42c6-be1b-c3584faf1021"
      },
      "source": [
        "!wget https://www.fs.usda.gov/rds/archive/products/RDS-2013-0009.4/RDS-2013-0009.4_GPKG.zip"
      ],
      "execution_count": null,
      "outputs": [
        {
          "output_type": "stream",
          "text": [
            "--2021-04-09 13:32:58--  https://www.fs.usda.gov/rds/archive/products/RDS-2013-0009.4/RDS-2013-0009.4_GPKG.zip\n",
            "Resolving www.fs.usda.gov (www.fs.usda.gov)... 23.199.31.249, 2600:1402:6800:2a6::b91, 2600:1402:6800:286::b91\n",
            "Connecting to www.fs.usda.gov (www.fs.usda.gov)|23.199.31.249|:443... connected.\n",
            "HTTP request sent, awaiting response... 200 OK\n",
            "Length: 160370416 (153M) [application/x-zip-compressed]\n",
            "Saving to: ‘RDS-2013-0009.4_GPKG.zip.1’\n",
            "\n",
            "RDS-2013-0009.4_GPK 100%[===================>] 152.94M  5.16MB/s    in 29s     \n",
            "\n",
            "2021-04-09 13:33:29 (5.19 MB/s) - ‘RDS-2013-0009.4_GPKG.zip.1’ saved [160370416/160370416]\n",
            "\n"
          ],
          "name": "stdout"
        }
      ]
    },
    {
      "cell_type": "code",
      "metadata": {
        "colab": {
          "base_uri": "https://localhost:8080/"
        },
        "id": "FmQPuqTfn8g5",
        "outputId": "77ba6220-cfeb-4a7e-8ab7-7736714c4486"
      },
      "source": [
        "!unzip RDS-2013-0009.4_GPKG.zip"
      ],
      "execution_count": null,
      "outputs": [
        {
          "output_type": "stream",
          "text": [
            "Archive:  RDS-2013-0009.4_GPKG.zip\n",
            "replace Data/FPA_FOD_20170508.gpkg? [y]es, [n]o, [A]ll, [N]one, [r]ename: A\n",
            "  inflating: Data/FPA_FOD_20170508.gpkg  \n",
            "  inflating: _metadata_RDS-2013-0009.4.xml  \n",
            "  inflating: Supplements/FPA_FOD_Source_List.pdf  \n",
            "  inflating: _fileindex_RDS-2013-0009.4.html  \n",
            "  inflating: _metadata_RDS-2013-0009.4.html  \n"
          ],
          "name": "stdout"
        }
      ]
    },
    {
      "cell_type": "code",
      "metadata": {
        "id": "36nydPcEkS1V"
      },
      "source": [
        "%%time \n",
        "# Important library for many geopython libraries\n",
        "!apt install gdal-bin python-gdal python3-gdal \n",
        "# Install rtree - Geopandas requirment\n",
        "!apt install python3-rtree \n",
        "# Install Geopandas\n",
        "!pip install git+git://github.com/geopandas/geopandas.git\n",
        "# Install descartes - Geopandas requirment\n",
        "!pip install descartes \n",
        "# Install Folium for Geographic data visualization\n",
        "!pip install folium\n",
        "# Install plotlyExpress\n",
        "!pip install plotly_express\n",
        "!pip3 install contextily"
      ],
      "execution_count": null,
      "outputs": []
    },
    {
      "cell_type": "code",
      "metadata": {
        "id": "PgwX5_EZlqZa"
      },
      "source": [
        "import pandas as pd\n",
        "import geopandas\n",
        "import matplotlib.pyplot as plt\n",
        "import numpy as np\n",
        "import os"
      ],
      "execution_count": null,
      "outputs": []
    },
    {
      "cell_type": "code",
      "metadata": {
        "id": "ZbiOtDwPnOhv"
      },
      "source": [
        "us_gdf = geopandas.read_file(\"/content/Data/FPA_FOD_20170508.gpkg\", layer='Fires')"
      ],
      "execution_count": null,
      "outputs": []
    },
    {
      "cell_type": "code",
      "metadata": {
        "colab": {
          "base_uri": "https://localhost:8080/",
          "height": 282
        },
        "id": "fnpekBHpoXug",
        "outputId": "596af85e-63a8-4da2-c04e-c92f2b0f303f"
      },
      "source": [
        "us_gdf.describe()"
      ],
      "execution_count": null,
      "outputs": [
        {
          "output_type": "execute_result",
          "data": {
            "text/html": [
              "<div>\n",
              "<style scoped>\n",
              "    .dataframe tbody tr th:only-of-type {\n",
              "        vertical-align: middle;\n",
              "    }\n",
              "\n",
              "    .dataframe tbody tr th {\n",
              "        vertical-align: top;\n",
              "    }\n",
              "\n",
              "    .dataframe thead th {\n",
              "        text-align: right;\n",
              "    }\n",
              "</style>\n",
              "<table border=\"1\" class=\"dataframe\">\n",
              "  <thead>\n",
              "    <tr style=\"text-align: right;\">\n",
              "      <th></th>\n",
              "      <th>FOD_ID</th>\n",
              "      <th>FIRE_YEAR</th>\n",
              "      <th>DISCOVERY_DOY</th>\n",
              "      <th>STAT_CAUSE_CODE</th>\n",
              "      <th>CONT_DOY</th>\n",
              "      <th>FIRE_SIZE</th>\n",
              "      <th>LATITUDE</th>\n",
              "      <th>LONGITUDE</th>\n",
              "      <th>OWNER_CODE</th>\n",
              "    </tr>\n",
              "  </thead>\n",
              "  <tbody>\n",
              "    <tr>\n",
              "      <th>count</th>\n",
              "      <td>1.880465e+06</td>\n",
              "      <td>1.880465e+06</td>\n",
              "      <td>1.880465e+06</td>\n",
              "      <td>1.880465e+06</td>\n",
              "      <td>988934.000000</td>\n",
              "      <td>1.880465e+06</td>\n",
              "      <td>1.880465e+06</td>\n",
              "      <td>1.880465e+06</td>\n",
              "      <td>1.880465e+06</td>\n",
              "    </tr>\n",
              "    <tr>\n",
              "      <th>mean</th>\n",
              "      <td>5.484020e+07</td>\n",
              "      <td>2.003710e+03</td>\n",
              "      <td>1.647191e+02</td>\n",
              "      <td>5.979037e+00</td>\n",
              "      <td>172.656766</td>\n",
              "      <td>7.452016e+01</td>\n",
              "      <td>3.678121e+01</td>\n",
              "      <td>-9.570494e+01</td>\n",
              "      <td>1.059658e+01</td>\n",
              "    </tr>\n",
              "    <tr>\n",
              "      <th>std</th>\n",
              "      <td>1.011963e+08</td>\n",
              "      <td>6.663099e+00</td>\n",
              "      <td>9.003891e+01</td>\n",
              "      <td>3.483860e+00</td>\n",
              "      <td>84.320348</td>\n",
              "      <td>2.497598e+03</td>\n",
              "      <td>6.139031e+00</td>\n",
              "      <td>1.671694e+01</td>\n",
              "      <td>4.404662e+00</td>\n",
              "    </tr>\n",
              "    <tr>\n",
              "      <th>min</th>\n",
              "      <td>1.000000e+00</td>\n",
              "      <td>1.992000e+03</td>\n",
              "      <td>1.000000e+00</td>\n",
              "      <td>1.000000e+00</td>\n",
              "      <td>1.000000</td>\n",
              "      <td>1.000000e-05</td>\n",
              "      <td>1.793972e+01</td>\n",
              "      <td>-1.788026e+02</td>\n",
              "      <td>0.000000e+00</td>\n",
              "    </tr>\n",
              "    <tr>\n",
              "      <th>25%</th>\n",
              "      <td>5.055000e+05</td>\n",
              "      <td>1.998000e+03</td>\n",
              "      <td>8.900000e+01</td>\n",
              "      <td>3.000000e+00</td>\n",
              "      <td>102.000000</td>\n",
              "      <td>1.000000e-01</td>\n",
              "      <td>3.281860e+01</td>\n",
              "      <td>-1.103635e+02</td>\n",
              "      <td>8.000000e+00</td>\n",
              "    </tr>\n",
              "    <tr>\n",
              "      <th>50%</th>\n",
              "      <td>1.067761e+06</td>\n",
              "      <td>2.004000e+03</td>\n",
              "      <td>1.640000e+02</td>\n",
              "      <td>5.000000e+00</td>\n",
              "      <td>181.000000</td>\n",
              "      <td>1.000000e+00</td>\n",
              "      <td>3.545250e+01</td>\n",
              "      <td>-9.204304e+01</td>\n",
              "      <td>1.400000e+01</td>\n",
              "    </tr>\n",
              "    <tr>\n",
              "      <th>75%</th>\n",
              "      <td>1.910639e+07</td>\n",
              "      <td>2.009000e+03</td>\n",
              "      <td>2.300000e+02</td>\n",
              "      <td>9.000000e+00</td>\n",
              "      <td>232.000000</td>\n",
              "      <td>3.300000e+00</td>\n",
              "      <td>4.082720e+01</td>\n",
              "      <td>-8.229760e+01</td>\n",
              "      <td>1.400000e+01</td>\n",
              "    </tr>\n",
              "    <tr>\n",
              "      <th>max</th>\n",
              "      <td>3.003484e+08</td>\n",
              "      <td>2.015000e+03</td>\n",
              "      <td>3.660000e+02</td>\n",
              "      <td>1.300000e+01</td>\n",
              "      <td>366.000000</td>\n",
              "      <td>6.069450e+05</td>\n",
              "      <td>7.033060e+01</td>\n",
              "      <td>-6.525694e+01</td>\n",
              "      <td>1.500000e+01</td>\n",
              "    </tr>\n",
              "  </tbody>\n",
              "</table>\n",
              "</div>"
            ],
            "text/plain": [
              "             FOD_ID     FIRE_YEAR  ...     LONGITUDE    OWNER_CODE\n",
              "count  1.880465e+06  1.880465e+06  ...  1.880465e+06  1.880465e+06\n",
              "mean   5.484020e+07  2.003710e+03  ... -9.570494e+01  1.059658e+01\n",
              "std    1.011963e+08  6.663099e+00  ...  1.671694e+01  4.404662e+00\n",
              "min    1.000000e+00  1.992000e+03  ... -1.788026e+02  0.000000e+00\n",
              "25%    5.055000e+05  1.998000e+03  ... -1.103635e+02  8.000000e+00\n",
              "50%    1.067761e+06  2.004000e+03  ... -9.204304e+01  1.400000e+01\n",
              "75%    1.910639e+07  2.009000e+03  ... -8.229760e+01  1.400000e+01\n",
              "max    3.003484e+08  2.015000e+03  ... -6.525694e+01  1.500000e+01\n",
              "\n",
              "[8 rows x 9 columns]"
            ]
          },
          "metadata": {
            "tags": []
          },
          "execution_count": 19
        }
      ]
    },
    {
      "cell_type": "code",
      "metadata": {
        "colab": {
          "base_uri": "https://localhost:8080/"
        },
        "id": "4eXkbQkWu4Xy",
        "outputId": "f5ef53bb-e82c-4736-8afb-054d26f5b33d"
      },
      "source": [
        "us_gdf.columns"
      ],
      "execution_count": null,
      "outputs": [
        {
          "output_type": "execute_result",
          "data": {
            "text/plain": [
              "Index(['FOD_ID', 'FPA_ID', 'SOURCE_SYSTEM_TYPE', 'SOURCE_SYSTEM',\n",
              "       'NWCG_REPORTING_AGENCY', 'NWCG_REPORTING_UNIT_ID',\n",
              "       'NWCG_REPORTING_UNIT_NAME', 'SOURCE_REPORTING_UNIT',\n",
              "       'SOURCE_REPORTING_UNIT_NAME', 'LOCAL_FIRE_REPORT_ID',\n",
              "       'LOCAL_INCIDENT_ID', 'FIRE_CODE', 'FIRE_NAME',\n",
              "       'ICS_209_INCIDENT_NUMBER', 'ICS_209_NAME', 'MTBS_ID', 'MTBS_FIRE_NAME',\n",
              "       'COMPLEX_NAME', 'FIRE_YEAR', 'DISCOVERY_DATE', 'DISCOVERY_DOY',\n",
              "       'DISCOVERY_TIME', 'STAT_CAUSE_CODE', 'STAT_CAUSE_DESCR', 'CONT_DATE',\n",
              "       'CONT_DOY', 'CONT_TIME', 'FIRE_SIZE', 'FIRE_SIZE_CLASS', 'LATITUDE',\n",
              "       'LONGITUDE', 'OWNER_CODE', 'OWNER_DESCR', 'STATE', 'COUNTY',\n",
              "       'FIPS_CODE', 'FIPS_NAME', 'geometry'],\n",
              "      dtype='object')"
            ]
          },
          "metadata": {
            "tags": []
          },
          "execution_count": 20
        }
      ]
    },
    {
      "cell_type": "code",
      "metadata": {
        "colab": {
          "base_uri": "https://localhost:8080/"
        },
        "id": "-6Q12tkWvIE1",
        "outputId": "6ad239b7-9f31-45cc-bd15-baae9b0af22b"
      },
      "source": [
        "len(us_gdf)"
      ],
      "execution_count": null,
      "outputs": [
        {
          "output_type": "execute_result",
          "data": {
            "text/plain": [
              "1880465"
            ]
          },
          "metadata": {
            "tags": []
          },
          "execution_count": 21
        }
      ]
    },
    {
      "cell_type": "code",
      "metadata": {
        "colab": {
          "base_uri": "https://localhost:8080/"
        },
        "id": "O4XPtG4-vOWY",
        "outputId": "7865e29c-90ce-4528-cc91-37426d10b9a1"
      },
      "source": [
        "len(us_gdf.FOD_ID.unique())"
      ],
      "execution_count": null,
      "outputs": [
        {
          "output_type": "execute_result",
          "data": {
            "text/plain": [
              "1880465"
            ]
          },
          "metadata": {
            "tags": []
          },
          "execution_count": 22
        }
      ]
    },
    {
      "cell_type": "code",
      "metadata": {
        "id": "PHKExnoWltLu"
      },
      "source": [
        "us_gdf = us_gdf[['FOD_ID','FIRE_YEAR', 'DISCOVERY_DATE', 'DISCOVERY_DOY',\n",
        "       'STAT_CAUSE_DESCR', 'FIRE_SIZE', 'STATE', 'geometry']]"
      ],
      "execution_count": null,
      "outputs": []
    },
    {
      "cell_type": "code",
      "metadata": {
        "id": "YPfIyCPRpL5m"
      },
      "source": [
        "virginia=us_gdf[us_gdf['STATE']=='VA']"
      ],
      "execution_count": null,
      "outputs": []
    },
    {
      "cell_type": "code",
      "metadata": {
        "id": "kYuBmKEX31qD"
      },
      "source": [
        "del us_gdf"
      ],
      "execution_count": null,
      "outputs": []
    },
    {
      "cell_type": "code",
      "metadata": {
        "colab": {
          "base_uri": "https://localhost:8080/",
          "height": 194
        },
        "id": "4cqk4K6Ep9m7",
        "outputId": "6fb3548b-ad05-474e-b9a4-a72116ec1222"
      },
      "source": [
        "virginia.head()"
      ],
      "execution_count": null,
      "outputs": [
        {
          "output_type": "execute_result",
          "data": {
            "text/html": [
              "<div>\n",
              "<style scoped>\n",
              "    .dataframe tbody tr th:only-of-type {\n",
              "        vertical-align: middle;\n",
              "    }\n",
              "\n",
              "    .dataframe tbody tr th {\n",
              "        vertical-align: top;\n",
              "    }\n",
              "\n",
              "    .dataframe thead th {\n",
              "        text-align: right;\n",
              "    }\n",
              "</style>\n",
              "<table border=\"1\" class=\"dataframe\">\n",
              "  <thead>\n",
              "    <tr style=\"text-align: right;\">\n",
              "      <th></th>\n",
              "      <th>FOD_ID</th>\n",
              "      <th>FIRE_YEAR</th>\n",
              "      <th>DISCOVERY_DATE</th>\n",
              "      <th>DISCOVERY_DOY</th>\n",
              "      <th>STAT_CAUSE_DESCR</th>\n",
              "      <th>FIRE_SIZE</th>\n",
              "      <th>STATE</th>\n",
              "      <th>geometry</th>\n",
              "    </tr>\n",
              "  </thead>\n",
              "  <tbody>\n",
              "    <tr>\n",
              "      <th>3474</th>\n",
              "      <td>3493</td>\n",
              "      <td>2005</td>\n",
              "      <td>2005-03-19T00:00:00+00:00</td>\n",
              "      <td>78</td>\n",
              "      <td>Arson</td>\n",
              "      <td>293.0</td>\n",
              "      <td>VA</td>\n",
              "      <td>POINT (-79.07167 38.55778)</td>\n",
              "    </tr>\n",
              "    <tr>\n",
              "      <th>3482</th>\n",
              "      <td>3501</td>\n",
              "      <td>2005</td>\n",
              "      <td>2005-03-30T00:00:00+00:00</td>\n",
              "      <td>89</td>\n",
              "      <td>Arson</td>\n",
              "      <td>1.0</td>\n",
              "      <td>VA</td>\n",
              "      <td>POINT (-79.38333 38.30000)</td>\n",
              "    </tr>\n",
              "    <tr>\n",
              "      <th>3504</th>\n",
              "      <td>3523</td>\n",
              "      <td>2005</td>\n",
              "      <td>2005-04-03T00:00:00+00:00</td>\n",
              "      <td>93</td>\n",
              "      <td>Miscellaneous</td>\n",
              "      <td>11.1</td>\n",
              "      <td>VA</td>\n",
              "      <td>POINT (-79.02944 38.74139)</td>\n",
              "    </tr>\n",
              "    <tr>\n",
              "      <th>3505</th>\n",
              "      <td>3524</td>\n",
              "      <td>2005</td>\n",
              "      <td>2005-04-09T00:00:00+00:00</td>\n",
              "      <td>99</td>\n",
              "      <td>Arson</td>\n",
              "      <td>0.1</td>\n",
              "      <td>VA</td>\n",
              "      <td>POINT (-82.44778 36.85472)</td>\n",
              "    </tr>\n",
              "    <tr>\n",
              "      <th>3513</th>\n",
              "      <td>3532</td>\n",
              "      <td>2005</td>\n",
              "      <td>2005-05-28T00:00:00+00:00</td>\n",
              "      <td>148</td>\n",
              "      <td>Miscellaneous</td>\n",
              "      <td>2.5</td>\n",
              "      <td>VA</td>\n",
              "      <td>POINT (-80.20194 37.76028)</td>\n",
              "    </tr>\n",
              "  </tbody>\n",
              "</table>\n",
              "</div>"
            ],
            "text/plain": [
              "      FOD_ID  FIRE_YEAR  ... STATE                    geometry\n",
              "3474    3493       2005  ...    VA  POINT (-79.07167 38.55778)\n",
              "3482    3501       2005  ...    VA  POINT (-79.38333 38.30000)\n",
              "3504    3523       2005  ...    VA  POINT (-79.02944 38.74139)\n",
              "3505    3524       2005  ...    VA  POINT (-82.44778 36.85472)\n",
              "3513    3532       2005  ...    VA  POINT (-80.20194 37.76028)\n",
              "\n",
              "[5 rows x 8 columns]"
            ]
          },
          "metadata": {
            "tags": []
          },
          "execution_count": 26
        }
      ]
    },
    {
      "cell_type": "code",
      "metadata": {
        "colab": {
          "base_uri": "https://localhost:8080/",
          "height": 194
        },
        "id": "ZxEFXWJiqEEr",
        "outputId": "9cde1210-1eac-48d0-d732-b09b76768311"
      },
      "source": [
        "virginia.drop('STATE', axis=1, inplace=True)\n",
        "virginia.head()"
      ],
      "execution_count": null,
      "outputs": [
        {
          "output_type": "execute_result",
          "data": {
            "text/html": [
              "<div>\n",
              "<style scoped>\n",
              "    .dataframe tbody tr th:only-of-type {\n",
              "        vertical-align: middle;\n",
              "    }\n",
              "\n",
              "    .dataframe tbody tr th {\n",
              "        vertical-align: top;\n",
              "    }\n",
              "\n",
              "    .dataframe thead th {\n",
              "        text-align: right;\n",
              "    }\n",
              "</style>\n",
              "<table border=\"1\" class=\"dataframe\">\n",
              "  <thead>\n",
              "    <tr style=\"text-align: right;\">\n",
              "      <th></th>\n",
              "      <th>FOD_ID</th>\n",
              "      <th>FIRE_YEAR</th>\n",
              "      <th>DISCOVERY_DATE</th>\n",
              "      <th>DISCOVERY_DOY</th>\n",
              "      <th>STAT_CAUSE_DESCR</th>\n",
              "      <th>FIRE_SIZE</th>\n",
              "      <th>geometry</th>\n",
              "    </tr>\n",
              "  </thead>\n",
              "  <tbody>\n",
              "    <tr>\n",
              "      <th>3474</th>\n",
              "      <td>3493</td>\n",
              "      <td>2005</td>\n",
              "      <td>2005-03-19T00:00:00+00:00</td>\n",
              "      <td>78</td>\n",
              "      <td>Arson</td>\n",
              "      <td>293.0</td>\n",
              "      <td>POINT (-79.07167 38.55778)</td>\n",
              "    </tr>\n",
              "    <tr>\n",
              "      <th>3482</th>\n",
              "      <td>3501</td>\n",
              "      <td>2005</td>\n",
              "      <td>2005-03-30T00:00:00+00:00</td>\n",
              "      <td>89</td>\n",
              "      <td>Arson</td>\n",
              "      <td>1.0</td>\n",
              "      <td>POINT (-79.38333 38.30000)</td>\n",
              "    </tr>\n",
              "    <tr>\n",
              "      <th>3504</th>\n",
              "      <td>3523</td>\n",
              "      <td>2005</td>\n",
              "      <td>2005-04-03T00:00:00+00:00</td>\n",
              "      <td>93</td>\n",
              "      <td>Miscellaneous</td>\n",
              "      <td>11.1</td>\n",
              "      <td>POINT (-79.02944 38.74139)</td>\n",
              "    </tr>\n",
              "    <tr>\n",
              "      <th>3505</th>\n",
              "      <td>3524</td>\n",
              "      <td>2005</td>\n",
              "      <td>2005-04-09T00:00:00+00:00</td>\n",
              "      <td>99</td>\n",
              "      <td>Arson</td>\n",
              "      <td>0.1</td>\n",
              "      <td>POINT (-82.44778 36.85472)</td>\n",
              "    </tr>\n",
              "    <tr>\n",
              "      <th>3513</th>\n",
              "      <td>3532</td>\n",
              "      <td>2005</td>\n",
              "      <td>2005-05-28T00:00:00+00:00</td>\n",
              "      <td>148</td>\n",
              "      <td>Miscellaneous</td>\n",
              "      <td>2.5</td>\n",
              "      <td>POINT (-80.20194 37.76028)</td>\n",
              "    </tr>\n",
              "  </tbody>\n",
              "</table>\n",
              "</div>"
            ],
            "text/plain": [
              "      FOD_ID  FIRE_YEAR  ... FIRE_SIZE                    geometry\n",
              "3474    3493       2005  ...     293.0  POINT (-79.07167 38.55778)\n",
              "3482    3501       2005  ...       1.0  POINT (-79.38333 38.30000)\n",
              "3504    3523       2005  ...      11.1  POINT (-79.02944 38.74139)\n",
              "3505    3524       2005  ...       0.1  POINT (-82.44778 36.85472)\n",
              "3513    3532       2005  ...       2.5  POINT (-80.20194 37.76028)\n",
              "\n",
              "[5 rows x 7 columns]"
            ]
          },
          "metadata": {
            "tags": []
          },
          "execution_count": 27
        }
      ]
    },
    {
      "cell_type": "code",
      "metadata": {
        "colab": {
          "base_uri": "https://localhost:8080/",
          "height": 194
        },
        "id": "ywDh85SCqqjw",
        "outputId": "b0aefd3b-58a9-42a8-9e5d-e4cfe52a9a97"
      },
      "source": [
        "virginia = virginia.dropna()\n",
        "virginia.head()"
      ],
      "execution_count": null,
      "outputs": [
        {
          "output_type": "execute_result",
          "data": {
            "text/html": [
              "<div>\n",
              "<style scoped>\n",
              "    .dataframe tbody tr th:only-of-type {\n",
              "        vertical-align: middle;\n",
              "    }\n",
              "\n",
              "    .dataframe tbody tr th {\n",
              "        vertical-align: top;\n",
              "    }\n",
              "\n",
              "    .dataframe thead th {\n",
              "        text-align: right;\n",
              "    }\n",
              "</style>\n",
              "<table border=\"1\" class=\"dataframe\">\n",
              "  <thead>\n",
              "    <tr style=\"text-align: right;\">\n",
              "      <th></th>\n",
              "      <th>FOD_ID</th>\n",
              "      <th>FIRE_YEAR</th>\n",
              "      <th>DISCOVERY_DATE</th>\n",
              "      <th>DISCOVERY_DOY</th>\n",
              "      <th>STAT_CAUSE_DESCR</th>\n",
              "      <th>FIRE_SIZE</th>\n",
              "      <th>geometry</th>\n",
              "    </tr>\n",
              "  </thead>\n",
              "  <tbody>\n",
              "    <tr>\n",
              "      <th>3474</th>\n",
              "      <td>3493</td>\n",
              "      <td>2005</td>\n",
              "      <td>2005-03-19T00:00:00+00:00</td>\n",
              "      <td>78</td>\n",
              "      <td>Arson</td>\n",
              "      <td>293.0</td>\n",
              "      <td>POINT (-79.07167 38.55778)</td>\n",
              "    </tr>\n",
              "    <tr>\n",
              "      <th>3482</th>\n",
              "      <td>3501</td>\n",
              "      <td>2005</td>\n",
              "      <td>2005-03-30T00:00:00+00:00</td>\n",
              "      <td>89</td>\n",
              "      <td>Arson</td>\n",
              "      <td>1.0</td>\n",
              "      <td>POINT (-79.38333 38.30000)</td>\n",
              "    </tr>\n",
              "    <tr>\n",
              "      <th>3504</th>\n",
              "      <td>3523</td>\n",
              "      <td>2005</td>\n",
              "      <td>2005-04-03T00:00:00+00:00</td>\n",
              "      <td>93</td>\n",
              "      <td>Miscellaneous</td>\n",
              "      <td>11.1</td>\n",
              "      <td>POINT (-79.02944 38.74139)</td>\n",
              "    </tr>\n",
              "    <tr>\n",
              "      <th>3505</th>\n",
              "      <td>3524</td>\n",
              "      <td>2005</td>\n",
              "      <td>2005-04-09T00:00:00+00:00</td>\n",
              "      <td>99</td>\n",
              "      <td>Arson</td>\n",
              "      <td>0.1</td>\n",
              "      <td>POINT (-82.44778 36.85472)</td>\n",
              "    </tr>\n",
              "    <tr>\n",
              "      <th>3513</th>\n",
              "      <td>3532</td>\n",
              "      <td>2005</td>\n",
              "      <td>2005-05-28T00:00:00+00:00</td>\n",
              "      <td>148</td>\n",
              "      <td>Miscellaneous</td>\n",
              "      <td>2.5</td>\n",
              "      <td>POINT (-80.20194 37.76028)</td>\n",
              "    </tr>\n",
              "  </tbody>\n",
              "</table>\n",
              "</div>"
            ],
            "text/plain": [
              "      FOD_ID  FIRE_YEAR  ... FIRE_SIZE                    geometry\n",
              "3474    3493       2005  ...     293.0  POINT (-79.07167 38.55778)\n",
              "3482    3501       2005  ...       1.0  POINT (-79.38333 38.30000)\n",
              "3504    3523       2005  ...      11.1  POINT (-79.02944 38.74139)\n",
              "3505    3524       2005  ...       0.1  POINT (-82.44778 36.85472)\n",
              "3513    3532       2005  ...       2.5  POINT (-80.20194 37.76028)\n",
              "\n",
              "[5 rows x 7 columns]"
            ]
          },
          "metadata": {
            "tags": []
          },
          "execution_count": 28
        }
      ]
    },
    {
      "cell_type": "code",
      "metadata": {
        "id": "m10M89gzw307"
      },
      "source": [
        "virginia['lon'] = virginia.geometry.apply(lambda p: p.x)\n",
        "virginia['lat'] = virginia.geometry.apply(lambda p: p.y)"
      ],
      "execution_count": null,
      "outputs": []
    },
    {
      "cell_type": "code",
      "metadata": {
        "colab": {
          "base_uri": "https://localhost:8080/",
          "height": 214
        },
        "id": "HSeHBbzXzqII",
        "outputId": "bf29c882-199e-4b3a-bbb0-c993e8c2d9b8"
      },
      "source": [
        "virginia.plot()"
      ],
      "execution_count": null,
      "outputs": [
        {
          "output_type": "execute_result",
          "data": {
            "text/plain": [
              "<matplotlib.axes._subplots.AxesSubplot at 0x7fec53015dd0>"
            ]
          },
          "metadata": {
            "tags": []
          },
          "execution_count": 30
        },
        {
          "output_type": "display_data",
          "data": {
            "image/png": "[encoded data removed]",
            "text/plain": [
              "<Figure size 432x288 with 1 Axes>"
            ]
          },
          "metadata": {
            "tags": [],
            "needs_background": "light"
          }
        }
      ]
    },
    {
      "cell_type": "code",
      "metadata": {
        "id": "8AOxlLigyBxS"
      },
      "source": [
        "virginia_nogeom=virginia.drop('geometry', axis=1)"
      ],
      "execution_count": null,
      "outputs": []
    },
    {
      "cell_type": "code",
      "metadata": {
        "id": "sTZ7Q2tHq7yd"
      },
      "source": [
        "virginia_nogeom.to_csv(\"virginia_cleaned.csv\",index=False,mode='w')"
      ],
      "execution_count": null,
      "outputs": []
    },
    {
      "cell_type": "code",
      "metadata": {
        "colab": {
          "base_uri": "https://localhost:8080/"
        },
        "id": "ul-lmW9lx9r5",
        "outputId": "1b386e53-06a1-4e69-9195-c52a9daf89fc"
      },
      "source": [
        "len(virginia)"
      ],
      "execution_count": null,
      "outputs": [
        {
          "output_type": "execute_result",
          "data": {
            "text/plain": [
              "21833"
            ]
          },
          "metadata": {
            "tags": []
          },
          "execution_count": 33
        }
      ]
    },
    {
      "cell_type": "code",
      "metadata": {
        "colab": {
          "base_uri": "https://localhost:8080/",
          "height": 528
        },
        "id": "Mi8rLyDlyU8Y",
        "outputId": "a26aea46-9932-4884-bc14-e2ef78d7bdd7"
      },
      "source": [
        "plt.figure(figsize=(8,8))\n",
        "\n",
        "cause_df = virginia['STAT_CAUSE_DESCR'].value_counts()\n",
        "\n",
        "plt.title('Distribution by cause', y=-0.15)\n",
        "plt.pie(cause_df, labels=list(cause_df.index[:-2]) + ['', '']);\n",
        "plt.axis('equal');"
      ],
      "execution_count": null,
      "outputs": [
        {
          "output_type": "display_data",
          "data": {
            "image/png": "[encoded data removed]",
            "text/plain": [
              "<Figure size 576x576 with 1 Axes>"
            ]
          },
          "metadata": {
            "tags": []
          }
        }
      ]
    }
  ]
}