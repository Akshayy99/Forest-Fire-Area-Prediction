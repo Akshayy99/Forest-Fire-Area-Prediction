{
  "nbformat": 4,
  "nbformat_minor": 0,
  "metadata": {
    "@webio": {
      "lastCommId": null,
      "lastKernelId": null
    },
    "kernelspec": {
      "display_name": "Python 3",
      "language": "python",
      "name": "python3"
    },
    "language_info": {
      "codemirror_mode": {
        "name": "ipython",
        "version": 3
      },
      "file_extension": ".py",
      "mimetype": "text/x-python",
      "name": "python",
      "nbconvert_exporter": "python",
      "pygments_lexer": "ipython3",
      "version": "3.5.2"
    },
    "colab": {
      "name": "FOD_FDA_lon_lat.ipynb",
      "provenance": []
    }
  },
  "cells": [
    {
      "cell_type": "code",
      "metadata": {
        "id": "aDBSK3kJXUDq"
      },
      "source": [
        "import sqlite3\n",
        "import pandas as pd\n",
        "import numpy as np\n",
        "import matplotlib.pyplot as plt\n",
        "\n",
        "from sklearn.preprocessing import StandardScaler\n",
        "from sklearn.model_selection import train_test_split\n",
        "import keras\n",
        "from keras.models import Sequential\n",
        "from keras.layers import Dense, Dropout\n"
      ],
      "execution_count": null,
      "outputs": []
    },
    {
      "cell_type": "code",
      "metadata": {
        "id": "YR1o941wZG7O"
      },
      "source": [
        "df=pd.read_csv('/content/ELAVATION_STAT.csv')"
      ],
      "execution_count": null,
      "outputs": []
    },
    {
      "cell_type": "code",
      "metadata": {
        "id": "vD7ig5zSXUDy",
        "colab": {
          "base_uri": "https://localhost:8080/",
          "height": 265
        },
        "outputId": "fe656dbe-a631-47e7-d326-c441365258ce"
      },
      "source": [
        "print(df.columns) \n",
        "df.head()"
      ],
      "execution_count": null,
      "outputs": [
        {
          "output_type": "stream",
          "text": [
            "Index(['DISCOVERY_DATE', 'DISCOVERY_DOY', 'FIRE_SIZE', 'FIRE_YEAR', 'FOD_ID',\n",
            "       'STAT_CAUSE_DESCR', 'elev_max', 'elev_mean', 'elev_min', 'slope_mean',\n",
            "       'lon', 'lat'],\n",
            "      dtype='object')\n"
          ],
          "name": "stdout"
        },
        {
          "output_type": "execute_result",
          "data": {
            "text/html": [
              "<div>\n",
              "<style scoped>\n",
              "    .dataframe tbody tr th:only-of-type {\n",
              "        vertical-align: middle;\n",
              "    }\n",
              "\n",
              "    .dataframe tbody tr th {\n",
              "        vertical-align: top;\n",
              "    }\n",
              "\n",
              "    .dataframe thead th {\n",
              "        text-align: right;\n",
              "    }\n",
              "</style>\n",
              "<table border=\"1\" class=\"dataframe\">\n",
              "  <thead>\n",
              "    <tr style=\"text-align: right;\">\n",
              "      <th></th>\n",
              "      <th>DISCOVERY_DATE</th>\n",
              "      <th>DISCOVERY_DOY</th>\n",
              "      <th>FIRE_SIZE</th>\n",
              "      <th>FIRE_YEAR</th>\n",
              "      <th>FOD_ID</th>\n",
              "      <th>STAT_CAUSE_DESCR</th>\n",
              "      <th>elev_max</th>\n",
              "      <th>elev_mean</th>\n",
              "      <th>elev_min</th>\n",
              "      <th>slope_mean</th>\n",
              "      <th>lon</th>\n",
              "      <th>lat</th>\n",
              "    </tr>\n",
              "  </thead>\n",
              "  <tbody>\n",
              "    <tr>\n",
              "      <th>0</th>\n",
              "      <td>2013-01-05T00:00:00+00:00</td>\n",
              "      <td>5</td>\n",
              "      <td>4.0</td>\n",
              "      <td>2013</td>\n",
              "      <td>201842250</td>\n",
              "      <td>Miscellaneous</td>\n",
              "      <td>215</td>\n",
              "      <td>193.695950</td>\n",
              "      <td>168</td>\n",
              "      <td>18.022604</td>\n",
              "      <td>-79.071667</td>\n",
              "      <td>38.557778</td>\n",
              "    </tr>\n",
              "    <tr>\n",
              "      <th>1</th>\n",
              "      <td>2013-01-08T00:00:00+00:00</td>\n",
              "      <td>8</td>\n",
              "      <td>2.0</td>\n",
              "      <td>2013</td>\n",
              "      <td>201840578</td>\n",
              "      <td>Debris Burning</td>\n",
              "      <td>136</td>\n",
              "      <td>88.597007</td>\n",
              "      <td>57</td>\n",
              "      <td>20.427586</td>\n",
              "      <td>-79.383333</td>\n",
              "      <td>38.300000</td>\n",
              "    </tr>\n",
              "    <tr>\n",
              "      <th>2</th>\n",
              "      <td>2013-01-08T00:00:00+00:00</td>\n",
              "      <td>8</td>\n",
              "      <td>2.0</td>\n",
              "      <td>2013</td>\n",
              "      <td>201840580</td>\n",
              "      <td>Debris Burning</td>\n",
              "      <td>434</td>\n",
              "      <td>391.754443</td>\n",
              "      <td>348</td>\n",
              "      <td>17.098140</td>\n",
              "      <td>-79.029444</td>\n",
              "      <td>38.741389</td>\n",
              "    </tr>\n",
              "    <tr>\n",
              "      <th>3</th>\n",
              "      <td>2013-01-10T00:00:00+00:00</td>\n",
              "      <td>10</td>\n",
              "      <td>1.5</td>\n",
              "      <td>2013</td>\n",
              "      <td>201840757</td>\n",
              "      <td>Debris Burning</td>\n",
              "      <td>59</td>\n",
              "      <td>36.743932</td>\n",
              "      <td>-2</td>\n",
              "      <td>15.562330</td>\n",
              "      <td>-82.447778</td>\n",
              "      <td>36.854722</td>\n",
              "    </tr>\n",
              "    <tr>\n",
              "      <th>4</th>\n",
              "      <td>2013-01-23T00:00:00+00:00</td>\n",
              "      <td>23</td>\n",
              "      <td>0.5</td>\n",
              "      <td>2013</td>\n",
              "      <td>201840781</td>\n",
              "      <td>Equipment Use</td>\n",
              "      <td>680</td>\n",
              "      <td>507.770072</td>\n",
              "      <td>341</td>\n",
              "      <td>20.657843</td>\n",
              "      <td>-80.201944</td>\n",
              "      <td>37.760278</td>\n",
              "    </tr>\n",
              "  </tbody>\n",
              "</table>\n",
              "</div>"
            ],
            "text/plain": [
              "              DISCOVERY_DATE  DISCOVERY_DOY  ...        lon        lat\n",
              "0  2013-01-05T00:00:00+00:00              5  ... -79.071667  38.557778\n",
              "1  2013-01-08T00:00:00+00:00              8  ... -79.383333  38.300000\n",
              "2  2013-01-08T00:00:00+00:00              8  ... -79.029444  38.741389\n",
              "3  2013-01-10T00:00:00+00:00             10  ... -82.447778  36.854722\n",
              "4  2013-01-23T00:00:00+00:00             23  ... -80.201944  37.760278\n",
              "\n",
              "[5 rows x 12 columns]"
            ]
          },
          "metadata": {
            "tags": []
          },
          "execution_count": 23
        }
      ]
    },
    {
      "cell_type": "code",
      "metadata": {
        "id": "3UilOUn6XUDz",
        "colab": {
          "base_uri": "https://localhost:8080/"
        },
        "outputId": "2fef0bce-0a9b-48d6-9cf5-f0133d62c590"
      },
      "source": [
        "# Check for Nan values\n",
        "df.isnull().values.any()\n",
        "df1 = df[df.isna().any(axis=1)]\n",
        "print(\"Num NAN values: {}\".format(df1.shape[0]))"
      ],
      "execution_count": null,
      "outputs": [
        {
          "output_type": "stream",
          "text": [
            "Num NAN values: 0\n"
          ],
          "name": "stdout"
        }
      ]
    },
    {
      "cell_type": "code",
      "metadata": {
        "colab": {
          "base_uri": "https://localhost:8080/",
          "height": 298
        },
        "id": "5qSm5YywZ45t",
        "outputId": "23c0147d-fed2-4497-d725-894e7d13f609"
      },
      "source": [
        "from sklearn import preprocessing\n",
        "le = preprocessing.LabelEncoder()\n",
        "df['STAT_CAUSE_CODE'] = le.fit_transform(df.STAT_CAUSE_DESCR.values)\n",
        "df.head()"
      ],
      "execution_count": null,
      "outputs": [
        {
          "output_type": "execute_result",
          "data": {
            "text/html": [
              "<div>\n",
              "<style scoped>\n",
              "    .dataframe tbody tr th:only-of-type {\n",
              "        vertical-align: middle;\n",
              "    }\n",
              "\n",
              "    .dataframe tbody tr th {\n",
              "        vertical-align: top;\n",
              "    }\n",
              "\n",
              "    .dataframe thead th {\n",
              "        text-align: right;\n",
              "    }\n",
              "</style>\n",
              "<table border=\"1\" class=\"dataframe\">\n",
              "  <thead>\n",
              "    <tr style=\"text-align: right;\">\n",
              "      <th></th>\n",
              "      <th>DISCOVERY_DATE</th>\n",
              "      <th>DISCOVERY_DOY</th>\n",
              "      <th>FIRE_SIZE</th>\n",
              "      <th>FIRE_YEAR</th>\n",
              "      <th>FOD_ID</th>\n",
              "      <th>STAT_CAUSE_DESCR</th>\n",
              "      <th>elev_max</th>\n",
              "      <th>elev_mean</th>\n",
              "      <th>elev_min</th>\n",
              "      <th>slope_mean</th>\n",
              "      <th>lon</th>\n",
              "      <th>lat</th>\n",
              "      <th>STAT_CAUSE_CODE</th>\n",
              "    </tr>\n",
              "  </thead>\n",
              "  <tbody>\n",
              "    <tr>\n",
              "      <th>0</th>\n",
              "      <td>2013-01-05T00:00:00+00:00</td>\n",
              "      <td>5</td>\n",
              "      <td>4.0</td>\n",
              "      <td>2013</td>\n",
              "      <td>201842250</td>\n",
              "      <td>Miscellaneous</td>\n",
              "      <td>215</td>\n",
              "      <td>193.695950</td>\n",
              "      <td>168</td>\n",
              "      <td>18.022604</td>\n",
              "      <td>-79.071667</td>\n",
              "      <td>38.557778</td>\n",
              "      <td>7</td>\n",
              "    </tr>\n",
              "    <tr>\n",
              "      <th>1</th>\n",
              "      <td>2013-01-08T00:00:00+00:00</td>\n",
              "      <td>8</td>\n",
              "      <td>2.0</td>\n",
              "      <td>2013</td>\n",
              "      <td>201840578</td>\n",
              "      <td>Debris Burning</td>\n",
              "      <td>136</td>\n",
              "      <td>88.597007</td>\n",
              "      <td>57</td>\n",
              "      <td>20.427586</td>\n",
              "      <td>-79.383333</td>\n",
              "      <td>38.300000</td>\n",
              "      <td>3</td>\n",
              "    </tr>\n",
              "    <tr>\n",
              "      <th>2</th>\n",
              "      <td>2013-01-08T00:00:00+00:00</td>\n",
              "      <td>8</td>\n",
              "      <td>2.0</td>\n",
              "      <td>2013</td>\n",
              "      <td>201840580</td>\n",
              "      <td>Debris Burning</td>\n",
              "      <td>434</td>\n",
              "      <td>391.754443</td>\n",
              "      <td>348</td>\n",
              "      <td>17.098140</td>\n",
              "      <td>-79.029444</td>\n",
              "      <td>38.741389</td>\n",
              "      <td>3</td>\n",
              "    </tr>\n",
              "    <tr>\n",
              "      <th>3</th>\n",
              "      <td>2013-01-10T00:00:00+00:00</td>\n",
              "      <td>10</td>\n",
              "      <td>1.5</td>\n",
              "      <td>2013</td>\n",
              "      <td>201840757</td>\n",
              "      <td>Debris Burning</td>\n",
              "      <td>59</td>\n",
              "      <td>36.743932</td>\n",
              "      <td>-2</td>\n",
              "      <td>15.562330</td>\n",
              "      <td>-82.447778</td>\n",
              "      <td>36.854722</td>\n",
              "      <td>3</td>\n",
              "    </tr>\n",
              "    <tr>\n",
              "      <th>4</th>\n",
              "      <td>2013-01-23T00:00:00+00:00</td>\n",
              "      <td>23</td>\n",
              "      <td>0.5</td>\n",
              "      <td>2013</td>\n",
              "      <td>201840781</td>\n",
              "      <td>Equipment Use</td>\n",
              "      <td>680</td>\n",
              "      <td>507.770072</td>\n",
              "      <td>341</td>\n",
              "      <td>20.657843</td>\n",
              "      <td>-80.201944</td>\n",
              "      <td>37.760278</td>\n",
              "      <td>4</td>\n",
              "    </tr>\n",
              "  </tbody>\n",
              "</table>\n",
              "</div>"
            ],
            "text/plain": [
              "              DISCOVERY_DATE  DISCOVERY_DOY  ...        lat  STAT_CAUSE_CODE\n",
              "0  2013-01-05T00:00:00+00:00              5  ...  38.557778                7\n",
              "1  2013-01-08T00:00:00+00:00              8  ...  38.300000                3\n",
              "2  2013-01-08T00:00:00+00:00              8  ...  38.741389                3\n",
              "3  2013-01-10T00:00:00+00:00             10  ...  36.854722                3\n",
              "4  2013-01-23T00:00:00+00:00             23  ...  37.760278                4\n",
              "\n",
              "[5 rows x 13 columns]"
            ]
          },
          "metadata": {
            "tags": []
          },
          "execution_count": 25
        }
      ]
    },
    {
      "cell_type": "code",
      "metadata": {
        "colab": {
          "base_uri": "https://localhost:8080/"
        },
        "id": "SlVhmtaJbK_y",
        "outputId": "1cc417ec-7ec3-40b4-afe2-94a999c594fc"
      },
      "source": [
        "le.classes_"
      ],
      "execution_count": null,
      "outputs": [
        {
          "output_type": "execute_result",
          "data": {
            "text/plain": [
              "array(['Arson', 'Campfire', 'Children', 'Debris Burning', 'Equipment Use',\n",
              "       'Fireworks', 'Lightning', 'Miscellaneous', 'Missing/Undefined',\n",
              "       'Powerline', 'Railroad', 'Smoking', 'Structure'], dtype=object)"
            ]
          },
          "metadata": {
            "tags": []
          },
          "execution_count": 7
        }
      ]
    },
    {
      "cell_type": "code",
      "metadata": {
        "colab": {
          "base_uri": "https://localhost:8080/",
          "height": 298
        },
        "id": "jErxar7JdOvJ",
        "outputId": "13b97b42-f743-4bc5-8a93-c1b46ff875e0"
      },
      "source": [
        "import datetime as dt\n",
        "df['MYDATE'] = pd.to_datetime(df['DISCOVERY_DATE'])\n",
        "df['MYDATE']=df['MYDATE'].map(dt.datetime.toordinal)\n",
        "df.head(5)"
      ],
      "execution_count": null,
      "outputs": [
        {
          "output_type": "execute_result",
          "data": {
            "text/html": [
              "<div>\n",
              "<style scoped>\n",
              "    .dataframe tbody tr th:only-of-type {\n",
              "        vertical-align: middle;\n",
              "    }\n",
              "\n",
              "    .dataframe tbody tr th {\n",
              "        vertical-align: top;\n",
              "    }\n",
              "\n",
              "    .dataframe thead th {\n",
              "        text-align: right;\n",
              "    }\n",
              "</style>\n",
              "<table border=\"1\" class=\"dataframe\">\n",
              "  <thead>\n",
              "    <tr style=\"text-align: right;\">\n",
              "      <th></th>\n",
              "      <th>DISCOVERY_DATE</th>\n",
              "      <th>DISCOVERY_DOY</th>\n",
              "      <th>FIRE_SIZE</th>\n",
              "      <th>FIRE_YEAR</th>\n",
              "      <th>FOD_ID</th>\n",
              "      <th>STAT_CAUSE_DESCR</th>\n",
              "      <th>elev_max</th>\n",
              "      <th>elev_mean</th>\n",
              "      <th>elev_min</th>\n",
              "      <th>slope_mean</th>\n",
              "      <th>lon</th>\n",
              "      <th>lat</th>\n",
              "      <th>STAT_CAUSE_CODE</th>\n",
              "      <th>Date</th>\n",
              "      <th>MYDATE</th>\n",
              "    </tr>\n",
              "  </thead>\n",
              "  <tbody>\n",
              "    <tr>\n",
              "      <th>0</th>\n",
              "      <td>2013-01-05T00:00:00+00:00</td>\n",
              "      <td>5</td>\n",
              "      <td>4.0</td>\n",
              "      <td>2013</td>\n",
              "      <td>201842250</td>\n",
              "      <td>Miscellaneous</td>\n",
              "      <td>215</td>\n",
              "      <td>193.695950</td>\n",
              "      <td>168</td>\n",
              "      <td>18.022604</td>\n",
              "      <td>-79.071667</td>\n",
              "      <td>38.557778</td>\n",
              "      <td>7</td>\n",
              "      <td>734873</td>\n",
              "      <td>734873</td>\n",
              "    </tr>\n",
              "    <tr>\n",
              "      <th>1</th>\n",
              "      <td>2013-01-08T00:00:00+00:00</td>\n",
              "      <td>8</td>\n",
              "      <td>2.0</td>\n",
              "      <td>2013</td>\n",
              "      <td>201840578</td>\n",
              "      <td>Debris Burning</td>\n",
              "      <td>136</td>\n",
              "      <td>88.597007</td>\n",
              "      <td>57</td>\n",
              "      <td>20.427586</td>\n",
              "      <td>-79.383333</td>\n",
              "      <td>38.300000</td>\n",
              "      <td>3</td>\n",
              "      <td>734876</td>\n",
              "      <td>734876</td>\n",
              "    </tr>\n",
              "    <tr>\n",
              "      <th>2</th>\n",
              "      <td>2013-01-08T00:00:00+00:00</td>\n",
              "      <td>8</td>\n",
              "      <td>2.0</td>\n",
              "      <td>2013</td>\n",
              "      <td>201840580</td>\n",
              "      <td>Debris Burning</td>\n",
              "      <td>434</td>\n",
              "      <td>391.754443</td>\n",
              "      <td>348</td>\n",
              "      <td>17.098140</td>\n",
              "      <td>-79.029444</td>\n",
              "      <td>38.741389</td>\n",
              "      <td>3</td>\n",
              "      <td>734876</td>\n",
              "      <td>734876</td>\n",
              "    </tr>\n",
              "    <tr>\n",
              "      <th>3</th>\n",
              "      <td>2013-01-10T00:00:00+00:00</td>\n",
              "      <td>10</td>\n",
              "      <td>1.5</td>\n",
              "      <td>2013</td>\n",
              "      <td>201840757</td>\n",
              "      <td>Debris Burning</td>\n",
              "      <td>59</td>\n",
              "      <td>36.743932</td>\n",
              "      <td>-2</td>\n",
              "      <td>15.562330</td>\n",
              "      <td>-82.447778</td>\n",
              "      <td>36.854722</td>\n",
              "      <td>3</td>\n",
              "      <td>734878</td>\n",
              "      <td>734878</td>\n",
              "    </tr>\n",
              "    <tr>\n",
              "      <th>4</th>\n",
              "      <td>2013-01-23T00:00:00+00:00</td>\n",
              "      <td>23</td>\n",
              "      <td>0.5</td>\n",
              "      <td>2013</td>\n",
              "      <td>201840781</td>\n",
              "      <td>Equipment Use</td>\n",
              "      <td>680</td>\n",
              "      <td>507.770072</td>\n",
              "      <td>341</td>\n",
              "      <td>20.657843</td>\n",
              "      <td>-80.201944</td>\n",
              "      <td>37.760278</td>\n",
              "      <td>4</td>\n",
              "      <td>734891</td>\n",
              "      <td>734891</td>\n",
              "    </tr>\n",
              "  </tbody>\n",
              "</table>\n",
              "</div>"
            ],
            "text/plain": [
              "              DISCOVERY_DATE  DISCOVERY_DOY  ...    Date  MYDATE\n",
              "0  2013-01-05T00:00:00+00:00              5  ...  734873  734873\n",
              "1  2013-01-08T00:00:00+00:00              8  ...  734876  734876\n",
              "2  2013-01-08T00:00:00+00:00              8  ...  734876  734876\n",
              "3  2013-01-10T00:00:00+00:00             10  ...  734878  734878\n",
              "4  2013-01-23T00:00:00+00:00             23  ...  734891  734891\n",
              "\n",
              "[5 rows x 15 columns]"
            ]
          },
          "metadata": {
            "tags": []
          },
          "execution_count": 28
        }
      ]
    },
    {
      "cell_type": "code",
      "metadata": {
        "id": "csToFytTXUDz",
        "colab": {
          "base_uri": "https://localhost:8080/"
        },
        "outputId": "f2e846ae-ef13-4bcf-9f47-13211f6edd11"
      },
      "source": [
        "#Changing pandas dataframe to numpy array\n",
        "Y = df['FIRE_SIZE'].values\n",
        "X = df[['MYDATE', 'DISCOVERY_DOY','FIRE_YEAR', 'FOD_ID', 'STAT_CAUSE_CODE','lat', 'lon']]\n",
        "print(Y.shape)\n",
        "print(X.shape)"
      ],
      "execution_count": null,
      "outputs": [
        {
          "output_type": "stream",
          "text": [
            "(21833,)\n",
            "(21833, 7)\n"
          ],
          "name": "stdout"
        }
      ]
    },
    {
      "cell_type": "code",
      "metadata": {
        "colab": {
          "base_uri": "https://localhost:8080/",
          "height": 194
        },
        "id": "tZteBAJdGPSj",
        "outputId": "ed990c0e-795c-4b9b-9fab-1db51827747d"
      },
      "source": [
        "X.head()"
      ],
      "execution_count": null,
      "outputs": [
        {
          "output_type": "execute_result",
          "data": {
            "text/html": [
              "<div>\n",
              "<style scoped>\n",
              "    .dataframe tbody tr th:only-of-type {\n",
              "        vertical-align: middle;\n",
              "    }\n",
              "\n",
              "    .dataframe tbody tr th {\n",
              "        vertical-align: top;\n",
              "    }\n",
              "\n",
              "    .dataframe thead th {\n",
              "        text-align: right;\n",
              "    }\n",
              "</style>\n",
              "<table border=\"1\" class=\"dataframe\">\n",
              "  <thead>\n",
              "    <tr style=\"text-align: right;\">\n",
              "      <th></th>\n",
              "      <th>MYDATE</th>\n",
              "      <th>DISCOVERY_DOY</th>\n",
              "      <th>FIRE_YEAR</th>\n",
              "      <th>FOD_ID</th>\n",
              "      <th>STAT_CAUSE_CODE</th>\n",
              "      <th>lat</th>\n",
              "      <th>lon</th>\n",
              "    </tr>\n",
              "  </thead>\n",
              "  <tbody>\n",
              "    <tr>\n",
              "      <th>0</th>\n",
              "      <td>734873</td>\n",
              "      <td>5</td>\n",
              "      <td>2013</td>\n",
              "      <td>201842250</td>\n",
              "      <td>7</td>\n",
              "      <td>38.557778</td>\n",
              "      <td>-79.071667</td>\n",
              "    </tr>\n",
              "    <tr>\n",
              "      <th>1</th>\n",
              "      <td>734876</td>\n",
              "      <td>8</td>\n",
              "      <td>2013</td>\n",
              "      <td>201840578</td>\n",
              "      <td>3</td>\n",
              "      <td>38.300000</td>\n",
              "      <td>-79.383333</td>\n",
              "    </tr>\n",
              "    <tr>\n",
              "      <th>2</th>\n",
              "      <td>734876</td>\n",
              "      <td>8</td>\n",
              "      <td>2013</td>\n",
              "      <td>201840580</td>\n",
              "      <td>3</td>\n",
              "      <td>38.741389</td>\n",
              "      <td>-79.029444</td>\n",
              "    </tr>\n",
              "    <tr>\n",
              "      <th>3</th>\n",
              "      <td>734878</td>\n",
              "      <td>10</td>\n",
              "      <td>2013</td>\n",
              "      <td>201840757</td>\n",
              "      <td>3</td>\n",
              "      <td>36.854722</td>\n",
              "      <td>-82.447778</td>\n",
              "    </tr>\n",
              "    <tr>\n",
              "      <th>4</th>\n",
              "      <td>734891</td>\n",
              "      <td>23</td>\n",
              "      <td>2013</td>\n",
              "      <td>201840781</td>\n",
              "      <td>4</td>\n",
              "      <td>37.760278</td>\n",
              "      <td>-80.201944</td>\n",
              "    </tr>\n",
              "  </tbody>\n",
              "</table>\n",
              "</div>"
            ],
            "text/plain": [
              "   MYDATE  DISCOVERY_DOY  FIRE_YEAR  ...  STAT_CAUSE_CODE        lat        lon\n",
              "0  734873              5       2013  ...                7  38.557778 -79.071667\n",
              "1  734876              8       2013  ...                3  38.300000 -79.383333\n",
              "2  734876              8       2013  ...                3  38.741389 -79.029444\n",
              "3  734878             10       2013  ...                3  36.854722 -82.447778\n",
              "4  734891             23       2013  ...                4  37.760278 -80.201944\n",
              "\n",
              "[5 rows x 7 columns]"
            ]
          },
          "metadata": {
            "tags": []
          },
          "execution_count": 30
        }
      ]
    },
    {
      "cell_type": "code",
      "metadata": {
        "id": "FUoEu9jPXUD0"
      },
      "source": [
        "#Normalize the data\n",
        "sc = StandardScaler()\n",
        "X = sc.fit_transform(X)"
      ],
      "execution_count": null,
      "outputs": []
    },
    {
      "cell_type": "code",
      "metadata": {
        "colab": {
          "base_uri": "https://localhost:8080/"
        },
        "id": "3fW3M284VNp6",
        "outputId": "db2da93b-bb3d-4ffd-cf5f-2d86e577dfb0"
      },
      "source": [
        "X.shape"
      ],
      "execution_count": null,
      "outputs": [
        {
          "output_type": "execute_result",
          "data": {
            "text/plain": [
              "(21833, 7)"
            ]
          },
          "metadata": {
            "tags": []
          },
          "execution_count": 67
        }
      ]
    },
    {
      "cell_type": "code",
      "metadata": {
        "id": "EYpggAU4XUD0",
        "colab": {
          "base_uri": "https://localhost:8080/"
        },
        "outputId": "7a71d6d1-0929-4880-a623-3035c73ba75e"
      },
      "source": [
        "# Shuffles the data before split\n",
        "# Train/Test split\n",
        "X_train,X_test,y_train,y_test = train_test_split(X,Y,test_size = 0.5)\n",
        "print(\"# Train: {} , #Test: {}\".format(X_train.shape[0], X_test.shape[0]))\n",
        "print(\"# inputs: {}\".format(X_train.shape[1]))\n",
        "n = X_train.shape[1]"
      ],
      "execution_count": null,
      "outputs": [
        {
          "output_type": "stream",
          "text": [
            "# Train: 10916 , #Test: 10917\n",
            "# inputs: 7\n"
          ],
          "name": "stdout"
        }
      ]
    },
    {
      "cell_type": "code",
      "metadata": {
        "id": "TJ5brkT1XUD0",
        "colab": {
          "base_uri": "https://localhost:8080/",
          "height": 336
        },
        "outputId": "f238d844-4047-4285-a53b-e2658a1947c1"
      },
      "source": [
        "#Distibution of fire size\n",
        "plt.hist(Y, bins=np.logspace(-4,6, 50));\n",
        "plt.ylabel('Number of Fires')\n",
        "plt.xlabel('Fire Size')\n",
        "plt.gca().set_yscale(\"log\")\n",
        "plt.gca().set_xscale(\"log\")\n",
        "plt.savefig(\"kaggle_fires_dist_log.png\")\n",
        "plt.show()\n",
        "\n",
        "print(\"Mean fire size: {}\".format(np.mean(Y)))\n",
        "print(\"Median fire size: {}\".format(np.median(Y)))\n",
        "print(\"Var in fire size: {}\".format(np.var(Y)))"
      ],
      "execution_count": null,
      "outputs": [
        {
          "output_type": "display_data",
          "data": {
            "image/png": "[encoded data removed]",
            "text/plain": [
              "<Figure size 432x288 with 1 Axes>"
            ]
          },
          "metadata": {
            "tags": [],
            "needs_background": "light"
          }
        },
        {
          "output_type": "stream",
          "text": [
            "Mean fire size: 15.648139058543215\n",
            "Median fire size: 1.0\n",
            "Var in fire size: 46737.15855134302\n"
          ],
          "name": "stdout"
        }
      ]
    },
    {
      "cell_type": "code",
      "metadata": {
        "id": "NUPW7MWgXUD1",
        "colab": {
          "base_uri": "https://localhost:8080/"
        },
        "outputId": "bf48338f-7010-4602-9e4f-587de90d6d71"
      },
      "source": [
        "# Neural network\n",
        "model = Sequential()\n",
        "model.add(Dense(32, input_dim=n, kernel_initializer='normal', activation='relu'))\n",
        "model.add(Dense(64, input_dim=n , activation='relu'))\n",
        "model.add(Dropout(0.2))\n",
        "model.add(Dense(128, activation='relu'))\n",
        "model.add(Dropout(0.2))\n",
        "model.add(Dense(256, activation='relu'))\n",
        "model.add(Dropout(0.2))\n",
        "model.add(Dense(256, activation='relu'))\n",
        "model.add(Dropout(0.2))\n",
        "model.add(Dense(128, activation='relu'))\n",
        "model.add(Dropout(0.2))\n",
        "model.add(Dense(64, activation='relu'))\n",
        "model.add(Dropout(0.2))\n",
        "model.add(Dense(32, activation='relu'))\n",
        "model.add(Dropout(0.2))\n",
        "model.add(Dense(16, activation='relu'))\n",
        "model.add(Dense(1, activation='linear'))\n",
        "model.summary()"
      ],
      "execution_count": null,
      "outputs": [
        {
          "output_type": "stream",
          "text": [
            "Model: \"sequential\"\n",
            "_________________________________________________________________\n",
            "Layer (type)                 Output Shape              Param #   \n",
            "=================================================================\n",
            "dense (Dense)                (None, 32)                256       \n",
            "_________________________________________________________________\n",
            "dense_1 (Dense)              (None, 64)                2112      \n",
            "_________________________________________________________________\n",
            "dropout (Dropout)            (None, 64)                0         \n",
            "_________________________________________________________________\n",
            "dense_2 (Dense)              (None, 128)               8320      \n",
            "_________________________________________________________________\n",
            "dropout_1 (Dropout)          (None, 128)               0         \n",
            "_________________________________________________________________\n",
            "dense_3 (Dense)              (None, 256)               33024     \n",
            "_________________________________________________________________\n",
            "dropout_2 (Dropout)          (None, 256)               0         \n",
            "_________________________________________________________________\n",
            "dense_4 (Dense)              (None, 256)               65792     \n",
            "_________________________________________________________________\n",
            "dropout_3 (Dropout)          (None, 256)               0         \n",
            "_________________________________________________________________\n",
            "dense_5 (Dense)              (None, 128)               32896     \n",
            "_________________________________________________________________\n",
            "dropout_4 (Dropout)          (None, 128)               0         \n",
            "_________________________________________________________________\n",
            "dense_6 (Dense)              (None, 64)                8256      \n",
            "_________________________________________________________________\n",
            "dropout_5 (Dropout)          (None, 64)                0         \n",
            "_________________________________________________________________\n",
            "dense_7 (Dense)              (None, 32)                2080      \n",
            "_________________________________________________________________\n",
            "dropout_6 (Dropout)          (None, 32)                0         \n",
            "_________________________________________________________________\n",
            "dense_8 (Dense)              (None, 16)                528       \n",
            "_________________________________________________________________\n",
            "dense_9 (Dense)              (None, 1)                 17        \n",
            "=================================================================\n",
            "Total params: 153,281\n",
            "Trainable params: 153,281\n",
            "Non-trainable params: 0\n",
            "_________________________________________________________________\n"
          ],
          "name": "stdout"
        }
      ]
    },
    {
      "cell_type": "code",
      "metadata": {
        "id": "LNsC6_qfXUD1"
      },
      "source": [
        "model.compile(loss='mse', optimizer='adam', metrics=['mse','mae','accuracy'])"
      ],
      "execution_count": null,
      "outputs": []
    },
    {
      "cell_type": "code",
      "metadata": {
        "id": "SydRHo_JXUD2",
        "colab": {
          "base_uri": "https://localhost:8080/"
        },
        "outputId": "76b71e30-9844-4b19-8471-68cc0354a3de"
      },
      "source": [
        "#Save partly trained model\n",
        "#model.save('partly_trained.h5')\n",
        "\n",
        "#Load partly trained model\n",
        "from keras.models import load_model\n",
        "#model = load_model('partly_trained.h5')\n",
        "\n",
        "#Continue training\n",
        "history = model.fit(X_train, y_train, epochs=10, batch_size=640, verbose = 2, validation_split = 0.1, shuffle=True)"
      ],
      "execution_count": null,
      "outputs": [
        {
          "output_type": "stream",
          "text": [
            "Epoch 1/10\n",
            "16/16 - 2s - loss: 28416.7461 - mse: 28416.7461 - mae: 15.0023 - accuracy: 0.0545 - val_loss: 37451.7266 - val_mse: 37451.7266 - val_mae: 15.2809 - val_accuracy: 0.1841\n",
            "Epoch 2/10\n",
            "16/16 - 0s - loss: 28288.7559 - mse: 28288.7559 - mae: 22.7634 - accuracy: 0.1629 - val_loss: 37343.9844 - val_mse: 37343.9844 - val_mae: 19.3593 - val_accuracy: 0.1841\n",
            "Epoch 3/10\n",
            "16/16 - 0s - loss: 28256.0137 - mse: 28256.0137 - mae: 18.1512 - accuracy: 0.1629 - val_loss: 37328.7305 - val_mse: 37328.7305 - val_mae: 21.0903 - val_accuracy: 0.1841\n",
            "Epoch 4/10\n",
            "16/16 - 0s - loss: 28227.7207 - mse: 28227.7207 - mae: 24.9169 - accuracy: 0.1629 - val_loss: 37328.9297 - val_mse: 37328.9297 - val_mae: 21.2705 - val_accuracy: 0.1841\n",
            "Epoch 5/10\n",
            "16/16 - 1s - loss: 28203.9805 - mse: 28203.9805 - mae: 21.6378 - accuracy: 0.1629 - val_loss: 37317.7227 - val_mse: 37317.7227 - val_mae: 23.7940 - val_accuracy: 0.1841\n",
            "Epoch 6/10\n",
            "16/16 - 1s - loss: 28195.2090 - mse: 28195.2090 - mae: 24.2246 - accuracy: 0.1629 - val_loss: 37336.8398 - val_mse: 37336.8398 - val_mae: 21.7280 - val_accuracy: 0.1841\n",
            "Epoch 7/10\n",
            "16/16 - 1s - loss: 28176.9551 - mse: 28176.9551 - mae: 22.2692 - accuracy: 0.1628 - val_loss: 37312.8203 - val_mse: 37312.8203 - val_mae: 25.7236 - val_accuracy: 0.1841\n",
            "Epoch 8/10\n",
            "16/16 - 0s - loss: 28182.1621 - mse: 28182.1621 - mae: 24.6566 - accuracy: 0.1629 - val_loss: 37364.8789 - val_mse: 37364.8789 - val_mae: 19.1028 - val_accuracy: 0.1841\n",
            "Epoch 9/10\n",
            "16/16 - 1s - loss: 28198.9512 - mse: 28198.9512 - mae: 20.0179 - accuracy: 0.1629 - val_loss: 37322.7305 - val_mse: 37322.7305 - val_mae: 23.3001 - val_accuracy: 0.1841\n",
            "Epoch 10/10\n",
            "16/16 - 1s - loss: 28204.4434 - mse: 28204.4434 - mae: 26.3433 - accuracy: 0.1629 - val_loss: 37344.4297 - val_mse: 37344.4297 - val_mae: 21.0748 - val_accuracy: 0.1841\n"
          ],
          "name": "stdout"
        }
      ]
    },
    {
      "cell_type": "code",
      "metadata": {
        "colab": {
          "base_uri": "https://localhost:8080/"
        },
        "id": "O4Y3wQZTJbNg",
        "outputId": "2e5f586d-fa8e-4654-afae-13494736b31b"
      },
      "source": [
        "model.metrics_names"
      ],
      "execution_count": null,
      "outputs": [
        {
          "output_type": "execute_result",
          "data": {
            "text/plain": [
              "['loss', 'mse', 'mae', 'accuracy']"
            ]
          },
          "metadata": {
            "tags": []
          },
          "execution_count": 38
        }
      ]
    },
    {
      "cell_type": "code",
      "metadata": {
        "id": "GMk88xPsXUD2",
        "colab": {
          "base_uri": "https://localhost:8080/"
        },
        "outputId": "de1b0166-87d0-453f-c42c-e1d4e14ed625"
      },
      "source": [
        "#Save partly trained model\n",
        "model.save('partly_trained.h5')\n",
        "\n",
        "#Load partly trained model\n",
        "from keras.models import load_model\n",
        "model = load_model('partly_trained.h5')\n",
        "\n",
        "loss, mse, mae, accuracy = model.evaluate(X_test, y_test)\n",
        "print('MSE: %.2f, MAE: %.2f' % (mse,mae))"
      ],
      "execution_count": null,
      "outputs": [
        {
          "output_type": "stream",
          "text": [
            "342/342 [==============================] - 1s 2ms/step - loss: 64349.0938 - mse: 64349.0938 - mae: 22.1089 - accuracy: 0.1750\n",
            "MSE: 64349.09, MAE: 22.11\n"
          ],
          "name": "stdout"
        }
      ]
    },
    {
      "cell_type": "code",
      "metadata": {
        "id": "j5jh5p5AXUD2",
        "colab": {
          "base_uri": "https://localhost:8080/",
          "height": 297
        },
        "outputId": "374aeb60-8736-4f1e-d510-b30f8cfc28d2"
      },
      "source": [
        "#Visualize some predictions\n",
        "preds = model.predict(X_test, verbose=1)\n",
        "plt.scatter(y_test, preds, s=0.3, marker='.', c='r')\n",
        "plt.xlabel('True Size')\n",
        "plt.ylabel('Predicted Size')\n",
        "plt.plot([20,50],[20,50],c='k',linestyle='--')\n",
        "plt.show()"
      ],
      "execution_count": null,
      "outputs": [
        {
          "output_type": "stream",
          "text": [
            "342/342 [==============================] - 1s 1ms/step\n"
          ],
          "name": "stdout"
        },
        {
          "output_type": "display_data",
          "data": {
            "image/png": "[encoded data removed]",
            "text/plain": [
              "<Figure size 432x288 with 1 Axes>"
            ]
          },
          "metadata": {
            "tags": [],
            "needs_background": "light"
          }
        }
      ]
    },
    {
      "cell_type": "code",
      "metadata": {
        "id": "56-AHvvTXUD3",
        "colab": {
          "base_uri": "https://localhost:8080/",
          "height": 295
        },
        "outputId": "fded0c0e-b45d-44a4-e8de-58005a6d3d5d"
      },
      "source": [
        "# Plot training & validation accuracy values\n",
        "plt.plot(history.history['accuracy'])\n",
        "plt.title('Model Accuracy')\n",
        "plt.ylabel('Accuracy')\n",
        "plt.xlabel('Epoch')\n",
        "plt.legend(['Train', 'Test'], loc='upper left')\n",
        "plt.show()"
      ],
      "execution_count": null,
      "outputs": [
        {
          "output_type": "display_data",
          "data": {
            "image/png": "[encoded data removed]",
            "text/plain": [
              "<Figure size 432x288 with 1 Axes>"
            ]
          },
          "metadata": {
            "tags": [],
            "needs_background": "light"
          }
        }
      ]
    },
    {
      "cell_type": "code",
      "metadata": {
        "id": "NEqxRlmtXUD3",
        "colab": {
          "base_uri": "https://localhost:8080/",
          "height": 295
        },
        "outputId": "d33589e0-9afc-4e9d-c666-c45a1398acf7"
      },
      "source": [
        "# Plot training & validation loss values\n",
        "plt.plot(history.history['loss'])\n",
        "plt.title('Model loss')\n",
        "plt.ylabel('Loss')\n",
        "plt.xlabel('Epoch')\n",
        "plt.legend(['Train', 'Test'], loc='upper left')\n",
        "plt.show()"
      ],
      "execution_count": null,
      "outputs": [
        {
          "output_type": "display_data",
          "data": {
            "image/png": "[encoded data removed]",
            "text/plain": [
              "<Figure size 432x288 with 1 Axes>"
            ]
          },
          "metadata": {
            "tags": [],
            "needs_background": "light"
          }
        }
      ]
    },
    {
      "cell_type": "code",
      "metadata": {
        "id": "z7U73yhuXUD3",
        "colab": {
          "base_uri": "https://localhost:8080/"
        },
        "outputId": "9c49192c-b292-41ac-aaf7-6287bd2b0c22"
      },
      "source": [
        "# SVM\n",
        "from sklearn import svm\n",
        "from sklearn.metrics import r2_score, mean_absolute_error\n",
        "\n",
        "n = 70000\n",
        "svm_reg = svm.SVR(kernel='rbf', degree=3, gamma='auto')\n",
        "svm_reg.fit(X_train[0:n,:],y_train[0:n].reshape(-1))\n",
        "\n",
        "y_pred = svm_reg.predict(X_test[0:n,:])\n",
        "\n",
        "def mean_absolute_percentage_error(y_test, y_pred): \n",
        "    return np.mean(np.abs((y_test - y_pred) / (y_test+10e-1)) ) * 100\n",
        "print(\"MAE: {}\".format(mean_absolute_error(y_test[0:n],y_pred)))\n",
        "print(\"MAPE: {}\".format(mean_absolute_percentage_error(y_test[0:n],y_pred)))\n",
        "print(\"---------------------------------------\")\n"
      ],
      "execution_count": null,
      "outputs": [
        {
          "output_type": "stream",
          "text": [
            "MAE: 15.869906866211542\n",
            "MAPE: 51.50262670989514\n",
            "---------------------------------------\n"
          ],
          "name": "stdout"
        }
      ]
    },
    {
      "cell_type": "code",
      "metadata": {
        "id": "S8ONQ2UuXUD4",
        "colab": {
          "base_uri": "https://localhost:8080/",
          "height": 283
        },
        "outputId": "cb1e8339-6c46-4acc-961d-91f4151a2f41"
      },
      "source": [
        "#Visualize svm predictions\n",
        "plt.scatter(y_test[0:n], y_pred, s=0.3, marker='.', c='r')\n",
        "plt.xlabel('True Size')\n",
        "plt.ylabel('Predicted Size')\n",
        "plt.gca().set_xscale(\"log\")\n",
        "plt.gca().set_yscale(\"log\")\n",
        "plt.plot([.1,20,1000],[.1,20,1000],c='k',linestyle='--')\n",
        "plt.savefig(\"kaggle_fires_svm_preds.png\")\n",
        "plt.show()"
      ],
      "execution_count": null,
      "outputs": [
        {
          "output_type": "display_data",
          "data": {
            "image/png": "[encoded data removed]",
            "text/plain": [
              "<Figure size 432x288 with 1 Axes>"
            ]
          },
          "metadata": {
            "tags": [],
            "needs_background": "light"
          }
        }
      ]
    },
    {
      "cell_type": "code",
      "metadata": {
        "id": "1Jgh1FT-XUD4",
        "colab": {
          "base_uri": "https://localhost:8080/"
        },
        "outputId": "a938d435-0294-47c0-80a6-a551f6a191ea"
      },
      "source": [
        "# SKlearn MLP\n",
        "from sklearn.neural_network import MLPRegressor\n",
        "\n",
        "n = 10000\n",
        "\n",
        "NN = MLPRegressor(hidden_layer_sizes=(800,800,800,800),max_iter=200 )\n",
        "\n",
        "NN.fit(X_train[0:n,:],y_train[0:n].reshape(-1))\n",
        "y_pred = NN.predict(X_test[0:n,:])\n",
        "\n",
        "print(\"MAE: {}\".format(mean_absolute_error(y_test[0:n],y_pred)))\n",
        "print(\"r2: {}\".format(r2_score(y_test[0:n],y_pred)))\n",
        "print(\"---------------------------------------\")"
      ],
      "execution_count": null,
      "outputs": [
        {
          "output_type": "stream",
          "text": [
            "MAE: 23.66807365576672\n",
            "r2: -0.040630938388881654\n",
            "---------------------------------------\n"
          ],
          "name": "stdout"
        }
      ]
    },
    {
      "cell_type": "code",
      "metadata": {
        "id": "zMJvQSF6XUD4",
        "colab": {
          "base_uri": "https://localhost:8080/"
        },
        "outputId": "42996700-c86b-45bb-8590-86167c0fdd5e"
      },
      "source": [
        "# K Nearest Neighbours\n",
        "from sklearn.neighbors import KNeighborsRegressor\n",
        "\n",
        "n = 10000\n",
        "\n",
        "for nbs in [3,5,10]:\n",
        "    for wts in ['distance','uniform']:\n",
        "        K_nn = KNeighborsRegressor(n_neighbors=nbs,\n",
        "                                   weights=wts,\n",
        "                                   n_jobs=6)\n",
        "\n",
        "        K_nn.fit(X_train[0:n,:],y_train[0:n].reshape(-1))\n",
        "        y_pred = K_nn.predict(X_test[0:n,:])\n",
        "\n",
        "        print(\"nbs: {}, wts: {}\".format(nbs, wts))\n",
        "        print(\"MAE: {}\".format(mean_absolute_error(y_test[0:n],y_pred)))\n",
        "        print(\"r2: {}\".format(r2_score(y_test[0:n],y_pred)))\n",
        "        print(\"---------------------------------------\")\n"
      ],
      "execution_count": null,
      "outputs": [
        {
          "output_type": "stream",
          "text": [
            "nbs: 3, wts: distance\n",
            "MAE: 26.79403539638089\n",
            "r2: -0.11286511759145146\n",
            "---------------------------------------\n",
            "nbs: 3, wts: uniform\n",
            "MAE: 26.121014007261863\n",
            "r2: -0.0740030588809828\n",
            "---------------------------------------\n",
            "nbs: 5, wts: distance\n",
            "MAE: 26.59405144385451\n",
            "r2: -0.0777910516245306\n",
            "---------------------------------------\n",
            "nbs: 5, wts: uniform\n",
            "MAE: 26.206600606679864\n",
            "r2: -0.04864539276227253\n",
            "---------------------------------------\n",
            "nbs: 10, wts: distance\n",
            "MAE: 26.203447663198126\n",
            "r2: -0.05039113434217679\n",
            "---------------------------------------\n",
            "nbs: 10, wts: uniform\n",
            "MAE: 25.59666210511837\n",
            "r2: -0.023183300178630573\n",
            "---------------------------------------\n"
          ],
          "name": "stdout"
        }
      ]
    },
    {
      "cell_type": "code",
      "metadata": {
        "id": "by4pzY7vXUD5",
        "colab": {
          "base_uri": "https://localhost:8080/"
        },
        "outputId": "3cd9a5f5-3c6c-4e69-87e6-680d41edb6fe"
      },
      "source": [
        "# Decision Tree\n",
        "from sklearn import tree\n",
        "\n",
        "tree_clf = tree.DecisionTreeRegressor(criterion='mae')\n",
        "\n",
        "tree_clf.fit(X_train[0:n,:],y_train[0:n].reshape(-1))\n",
        "\n",
        "y_pred = tree_clf.predict(X_test[0:n,:])\n",
        "\n",
        "print(\"MAE: {}\".format(mean_absolute_error(y_test[0:n],y_pred)))\n",
        "print(\"r2: {}\".format(r2_score(y_test[0:n],y_pred)))\n",
        "print(\"---------------------------------------\")\n"
      ],
      "execution_count": null,
      "outputs": [
        {
          "output_type": "stream",
          "text": [
            "MAE: 31.430759002568898\n",
            "r2: -0.9981753330755487\n",
            "---------------------------------------\n"
          ],
          "name": "stdout"
        }
      ]
    },
    {
      "cell_type": "code",
      "metadata": {
        "id": "T-4ZV6S_XUD5",
        "colab": {
          "base_uri": "https://localhost:8080/"
        },
        "outputId": "fdc00724-3b95-45c7-fb9c-4513f316769f"
      },
      "source": [
        "# Stacked regressors\n",
        "from mlxtend.regressor import StackingRegressor\n",
        "\n",
        "n = 10000\n",
        "\n",
        "estimators = [K_nn, NN, svm_reg]\n",
        "\n",
        "regStack = StackingRegressor(regressors=estimators,\n",
        "                             meta_regressor=NN)\n",
        "\n",
        "regStack.fit(X_train[0:n,:],y_train[0:n].reshape(-1))\n",
        "\n",
        "y_pred = regStack.predict(X_test[0:n,:])\n",
        "\n",
        "print(\"MAE: {}\".format(mean_absolute_error(y_test[0:n],y_pred)))\n",
        "print(\"r2: {}\".format(r2_score(y_test[0:n],y_pred)))\n",
        "print(\"---------------------------------------\")\n"
      ],
      "execution_count": null,
      "outputs": [
        {
          "output_type": "stream",
          "text": [
            "MAE: 28.66661728117309\n",
            "r2: -0.13212161015851032\n",
            "---------------------------------------\n"
          ],
          "name": "stdout"
        }
      ]
    },
    {
      "cell_type": "code",
      "metadata": {
        "id": "JWgZLyCdXUD5",
        "colab": {
          "base_uri": "https://localhost:8080/"
        },
        "outputId": "3f75d31a-4208-4e3e-e87b-5e74b0a71326"
      },
      "source": [
        "#Best Features - Univariate statistical selection\n",
        "from sklearn.feature_selection import SelectKBest\n",
        "from sklearn.feature_selection import chi2, f_classif, mutual_info_classif\n",
        "\n",
        "feature_names = ['MYDATE', 'DISCOVERY_DOY','FIRE_YEAR', 'FOD_ID', 'STAT_CAUSE_CODE','lat', 'lon']\n",
        "\n",
        "bestfeatures = SelectKBest(score_func=f_classif, k=5)\n",
        "fit = bestfeatures.fit(X,np.array(Y).astype(int))\n",
        "dfscores = pd.DataFrame(fit.scores_)\n",
        "df_specs = pd.Series(feature_names).astype(str)\n",
        "featureScores = pd.concat([df_specs,dfscores],axis=1)\n",
        "featureScores.columns = ['Feature','f_classif Score'] \n",
        "print(featureScores.nlargest(len(feature_names),'f_classif Score'))  "
      ],
      "execution_count": null,
      "outputs": [
        {
          "output_type": "stream",
          "text": [
            "           Feature  f_classif Score\n",
            "3           FOD_ID         1.633780\n",
            "2        FIRE_YEAR         1.378482\n",
            "0           MYDATE         1.354870\n",
            "4  STAT_CAUSE_CODE         1.268075\n",
            "1    DISCOVERY_DOY         1.131915\n",
            "6              lon         1.092921\n",
            "5              lat         0.867531\n"
          ],
          "name": "stdout"
        }
      ]
    },
    {
      "cell_type": "code",
      "metadata": {
        "id": "EAF2dFe2XUD5",
        "colab": {
          "base_uri": "https://localhost:8080/",
          "height": 265
        },
        "outputId": "afa6768d-87fd-4157-f12c-c3afcbaa9d0e"
      },
      "source": [
        "#Best Features - importance\n",
        "# Feature importance gives you a score for each feature of your data, the higher the score more \n",
        "# important or relevant is the feature towards your output variable.\n",
        "# Feature importance is an inbuilt class that comes with Tree Based Classifiers, we will be using \n",
        "# Extra Tree Classifier for extracting the top 10 features for the dataset.\n",
        "\n",
        "from sklearn.ensemble import ExtraTreesRegressor\n",
        "import matplotlib.pyplot as plt\n",
        "model = ExtraTreesRegressor()\n",
        "model.fit(X_train,y_train)\n",
        "feat_importances = pd.Series(model.feature_importances_, index=feature_names)\n",
        "feat_importances.nlargest(10).plot(kind='barh')\n",
        "plt.show()"
      ],
      "execution_count": null,
      "outputs": [
        {
          "output_type": "display_data",
          "data": {
            "image/png": "[encoded data removed]",
            "text/plain": [
              "<Figure size 432x288 with 1 Axes>"
            ]
          },
          "metadata": {
            "tags": [],
            "needs_background": "light"
          }
        }
      ]
    },
    {
      "cell_type": "code",
      "metadata": {
        "colab": {
          "base_uri": "https://localhost:8080/"
        },
        "id": "yHff40R3UW-B",
        "outputId": "2629077e-dc9d-4cab-ac90-baf9da936e45"
      },
      "source": [
        "model.feature_importances_"
      ],
      "execution_count": null,
      "outputs": [
        {
          "output_type": "execute_result",
          "data": {
            "text/plain": [
              "array([0.11033689, 0.0967231 , 0.06852915, 0.27371735, 0.09677438,\n",
              "       0.18484073, 0.1690784 ])"
            ]
          },
          "metadata": {
            "tags": []
          },
          "execution_count": 74
        }
      ]
    },
    {
      "cell_type": "code",
      "metadata": {
        "id": "HBNWXmI7XUD6",
        "colab": {
          "base_uri": "https://localhost:8080/",
          "height": 714
        },
        "outputId": "adee9348-8d2e-47bb-8256-144d506c65e5"
      },
      "source": [
        "# Best feautres - correlation heatmap\n",
        "print(df.columns) \n",
        "import seaborn as sns\n",
        "feature_names = ['MYDATE', 'DISCOVERY_DOY','FIRE_YEAR', 'FOD_ID', 'STAT_CAUSE_CODE','lat', 'lon']\n",
        "\n",
        "data =df[feature_names]\n",
        "corrmat = np.corrcoef(data.T)\n",
        "plt.figure(figsize=(10,10))\n",
        "g=sns.heatmap(corrmat,annot=True,cmap=\"coolwarm\")\n",
        "g.set_xticklabels(feature_names,rotation=30)\n",
        "g.set_yticklabels(feature_names,rotation=30)\n",
        "plt.show()"
      ],
      "execution_count": null,
      "outputs": [
        {
          "output_type": "stream",
          "text": [
            "Index(['DISCOVERY_DATE', 'DISCOVERY_DOY', 'FIRE_SIZE', 'FIRE_YEAR', 'FOD_ID',\n",
            "       'STAT_CAUSE_DESCR', 'elev_max', 'elev_mean', 'elev_min', 'slope_mean',\n",
            "       'lon', 'lat', 'STAT_CAUSE_CODE', 'Date', 'MYDATE'],\n",
            "      dtype='object')\n"
          ],
          "name": "stdout"
        },
        {
          "output_type": "display_data",
          "data": {
            "image/png": "[encoded data removed]",
            "text/plain": [
              "<Figure size 720x720 with 2 Axes>"
            ]
          },
          "metadata": {
            "tags": [],
            "needs_background": "light"
          }
        }
      ]
    }
  ]
}